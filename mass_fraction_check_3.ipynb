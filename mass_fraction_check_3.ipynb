{
 "cells": [
  {
   "cell_type": "markdown",
   "id": "88743400",
   "metadata": {},
   "source": [
    "# Notes"
   ]
  },
  {
   "cell_type": "markdown",
   "id": "05935ed5",
   "metadata": {},
   "source": [
    "This jupyter notebook is to check whether loading a different chunk for a snaphoot results in different masses.\n",
    "\n",
    "This is because currently, plot_mass_fractions.ipynb results in the same values for every ingle chunk.\n",
    "\n",
    "This notebook will load snapshot 67 chunk 0\n",
    "\n",
    "It is coordination with mass_fraction_check_1.ipynb, mass_fraction_check_2.ipynb, and mass_fraction_check_4.ipynb\n",
    "which will check snapshot 99 chunk 0, snapshot 99 chunk 3, and snapshot 67 chunk 3 respectively."
   ]
  },
  {
   "cell_type": "markdown",
   "id": "4843f44d",
   "metadata": {},
   "source": [
    "# Imports"
   ]
  },
  {
   "cell_type": "code",
   "execution_count": 1,
   "id": "ce382b43",
   "metadata": {},
   "outputs": [
    {
     "name": "stderr",
     "output_type": "stream",
     "text": [
      "/draco/u/cwalker/virtual_environments/yt-git/yt/utilities/logger.py:4: VisibleDeprecationWarning: The configuration file /u/cwalker/.config/yt/ytrc is deprecated in favor of /u/cwalker/.config/yt/yt.toml. Currently, both are present. Please manually remove the deprecated one to silence this warning.\n",
      "Deprecated since v4.0.0 . This feature will be removed in v4.1.0\n",
      "  from yt.config import ytcfg\n"
     ]
    }
   ],
   "source": [
    "import numpy as np\n",
    "from matplotlib import pyplot as plt\n",
    "import yt\n",
    "import trident\n",
    "from trident import LightRay\n",
    "import illustris_python as il\n",
    "from astropy import units as u\n",
    "from astropy import constants as c\n",
    "from yt.utilities.cosmology import Cosmology\n",
    "from matplotlib import pyplot as plt"
   ]
  },
  {
   "cell_type": "markdown",
   "id": "c1c0e67d",
   "metadata": {},
   "source": [
    "# Choose snapshot and chunk to plot"
   ]
  },
  {
   "cell_type": "code",
   "execution_count": 2,
   "id": "60928dad",
   "metadata": {},
   "outputs": [],
   "source": [
    "snapshots=[67]\n",
    "chunks=[0]"
   ]
  },
  {
   "cell_type": "markdown",
   "id": "06cf4882",
   "metadata": {},
   "source": [
    "# Begin"
   ]
  },
  {
   "cell_type": "code",
   "execution_count": 3,
   "id": "fe9c4d81",
   "metadata": {},
   "outputs": [
    {
     "name": "stdout",
     "output_type": "stream",
     "text": [
      "processsing snapshot 67, chunk 0\n",
      "loading snapshot header\n",
      "header loaded.\n",
      "loading dataset: /virgo/simulations/IllustrisTNG/TNG100-3/output/snapdir_067/snap_067.0.hdf5\n"
     ]
    },
    {
     "name": "stderr",
     "output_type": "stream",
     "text": [
      "yt : [INFO     ] 2021-05-26 12:55:53,297 Calculating time from 6.653e-01 to be 2.710e+17 seconds\n",
      "yt : [INFO     ] 2021-05-26 12:55:53,397 Parameters: current_time              = 2.7097180874458618e+17 s\n",
      "yt : [INFO     ] 2021-05-26 12:55:53,398 Parameters: domain_dimensions         = [1 1 1]\n",
      "yt : [INFO     ] 2021-05-26 12:55:53,398 Parameters: domain_left_edge          = [0. 0. 0.]\n",
      "yt : [INFO     ] 2021-05-26 12:55:53,399 Parameters: domain_right_edge         = [75000. 75000. 75000.]\n",
      "yt : [INFO     ] 2021-05-26 12:55:53,400 Parameters: cosmological_simulation   = 1\n",
      "yt : [INFO     ] 2021-05-26 12:55:53,401 Parameters: current_redshift          = 0.5030475232448832\n",
      "yt : [INFO     ] 2021-05-26 12:55:53,401 Parameters: omega_lambda              = 0.6911\n",
      "yt : [INFO     ] 2021-05-26 12:55:53,402 Parameters: omega_matter              = 0.3089\n",
      "yt : [INFO     ] 2021-05-26 12:55:53,402 Parameters: omega_radiation           = 0.0\n",
      "yt : [INFO     ] 2021-05-26 12:55:53,402 Parameters: hubble_constant           = 0.6774\n"
     ]
    },
    {
     "name": "stdout",
     "output_type": "stream",
     "text": [
      "data loaded.\n",
      "calculating proton mass:\n",
      "proton mass: 8.411856872862986e-58 Msun\n"
     ]
    },
    {
     "name": "stderr",
     "output_type": "stream",
     "text": [
      "yt : [INFO     ] 2021-05-26 12:55:58,080 Allocating for 3.743e+08 particles\n",
      "Initializing coarse index : 100%|█████████▉| 722/723 [01:46<00:00,  6.76it/s]\n",
      "Initializing refined index: 100%|█████████▉| 722/723 [23:38<00:01,  1.97s/it]  \n"
     ]
    },
    {
     "name": "stdout",
     "output_type": "stream",
     "text": [
      "Calculating critical density of the Universe\n",
      "grav=6.6743e-11 m**3/(kg*s**2)\n",
      "H0 = 71.0 km/(Mpc*s)\n",
      "critical density is: 9.468720094206941e-27 kg/m**3\n",
      "critical density in kg/m^3: 9.468720094206941e-27 kg/m**3\n",
      "filled baryon arrays\n"
     ]
    }
   ],
   "source": [
    "######################################\n",
    "#initialise arrays that hold all data#\n",
    "######################################\n",
    "\n",
    "#redshift array\n",
    "allsnaps_redshifts=[]\n",
    "\n",
    "#baryon arrays\n",
    "#PartType0 (gas)\n",
    "allsnaps_tot_PT0_arr = []\n",
    "allsnaps_hal_PT0_arr = []\n",
    "allsnaps_fil_PT0_arr = []\n",
    "allsnaps_voi_PT0_arr = []\n",
    "#PartType4 (stars)\n",
    "allsnaps_tot_PT4_arr = []\n",
    "allsnaps_hal_PT4_arr = []\n",
    "allsnaps_fil_PT4_arr = []\n",
    "allsnaps_voi_PT4_arr = []\n",
    "\n",
    "#check arrays\n",
    "allsnaps_dens_crit_array = []\n",
    "allsnaps_m_p_array = []\n",
    "\n",
    "################################\n",
    "#loop over snapshots and chunks#\n",
    "################################\n",
    "\n",
    "for i in range(len(snapshots)):\n",
    "    \n",
    "    ######################################################\n",
    "    #initialise arrays that hold individual snapshot data#\n",
    "    ######################################################\n",
    "\n",
    "    #redshift array\n",
    "    redshifts=[]\n",
    "\n",
    "    #baryon arrays\n",
    "    #PartType0 (gas)\n",
    "    tot_PT0_arr = []\n",
    "    hal_PT0_arr = []\n",
    "    fil_PT0_arr = []\n",
    "    voi_PT0_arr = []\n",
    "    #PartType4 (stars)\n",
    "    tot_PT4_arr = []\n",
    "    hal_PT4_arr = []\n",
    "    fil_PT4_arr = []\n",
    "    voi_PT4_arr = []\n",
    "\n",
    "    #check arrays\n",
    "    dens_crit_array = []\n",
    "    m_p_array = []\n",
    "    \n",
    "    for j in range(len(chunks)):\n",
    "    \n",
    "        ###########################\n",
    "        #select snapshot and chunk#\n",
    "        ###########################\n",
    "\n",
    "        snapshot = snapshots[i]\n",
    "        chunk = chunks[j]\n",
    "        print('processsing snapshot {0:02d}, chunk {1}'.format(snapshot,chunk))\n",
    "\n",
    "        ######################\n",
    "        #load snapshot header#\n",
    "        ######################\n",
    "\n",
    "        print('loading snapshot header')\n",
    "        basepath = '/virgo/simulations/IllustrisTNG/TNG100-3/output/'\n",
    "        header=il.groupcat.loadHeader(basepath,snapshot)\n",
    "        print('header loaded.')\n",
    "\n",
    "        ########################################################\n",
    "        #extract redshift from header, append to redshift array#\n",
    "        ########################################################\n",
    "\n",
    "        redshifts.append(header['Redshift'])\n",
    "\n",
    "        #####################\n",
    "        #load Illustris data#\n",
    "        #####################\n",
    "\n",
    "        data='/virgo/simulations/IllustrisTNG/TNG100-3/output/snapdir_0{0:02d}/snap_0{0:02d}.{1}.hdf5'.format(snapshot,chunk)\n",
    "        print('loading dataset: {0}'.format(data))\n",
    "        ds=yt.load(data)\n",
    "        print('data loaded.')\n",
    "\n",
    "        ####################################\n",
    "        #define proton mass in solar masses#\n",
    "        ####################################\n",
    "\n",
    "        print('calculating proton mass:')\n",
    "        m_p = ds.quan((c.m_p).to(u.solMass).value,'Msun')\n",
    "        print ('proton mass: {0}'.format(m_p))\n",
    "        m_p_array.append(m_p)\n",
    "\n",
    "        ds.index\n",
    "\n",
    "        ############################################\n",
    "        #calculate critical density of the Universe#\n",
    "        ############################################\n",
    "\n",
    "        print('Calculating critical density of the Universe')\n",
    "        co=Cosmology()\n",
    "        grav=ds.quan(6.6743e-11,'m**3/(kg*s**2)')\n",
    "        H=co.hubble_parameter(0).in_units('km/s/Mpc')\n",
    "        print('grav={0}'.format(grav))\n",
    "        print('H0 = {0}'.format(H))\n",
    "        dens_crit = ((3 * H**2)/(8*np.pi* grav))#.in_units('h**2/(code_length**3/(Msun*s**2))')\n",
    "        print ('critical density is: {0}'.format(dens_crit))\n",
    "        print('critical density in kg/m^3: {0}'.format(dens_crit.in_units('kg/m**3')))\n",
    "        dens_crit_array.append(dens_crit)\n",
    "\n",
    "        ad = ds.all_data()\n",
    "\n",
    "        ##########################################################\n",
    "        #convert dark matter density to units of critical density#\n",
    "        ##########################################################\n",
    "\n",
    "        #PartType0 (gas)\n",
    "        dark_units_PT0 = ad['PartType0','SubfindDMDensity']*ds.quan(1e10,\"(Msun/h)/((code_length)**3)\")/dens_crit\n",
    "        #PartType4 (stars)\n",
    "        dark_units_PT4 = ad['PartType4','SubfindDMDensity']*ds.quan(1e10,\"(Msun/h)/((code_length)**3)\")/dens_crit\n",
    "\n",
    "        ###############################################################\n",
    "        #create Large-Scale Structure (LSS) masks for each matter type#\n",
    "        ###############################################################\n",
    "\n",
    "        #PartType0 (gas)\n",
    "        voi_mask_PT0 = dark_units_PT0 < 0.1\n",
    "        fil_mask_PT0 = np.logical_and(dark_units_PT0 >= 0.01, dark_units_PT0 < 57)\n",
    "        hal_mask_PT0 = dark_units_PT0 >= 57 \n",
    "        #PartType4 (stars)\n",
    "        voi_mask_PT4 = dark_units_PT4 < 0.1\n",
    "        fil_mask_PT4 = np.logical_and(dark_units_PT4 >= 0.01, dark_units_PT4 < 57)\n",
    "        hal_mask_PT4 = dark_units_PT4 >= 57\n",
    "\n",
    "        ##########################################################\n",
    "        #calculate mass in each LSS for each baryonic matter type#\n",
    "        ##########################################################\n",
    "\n",
    "        #PartType0 (gas)\n",
    "        tot_PT0 = np.sum(ad['PartType0','Masses'])\n",
    "        hal_PT0 = np.sum(ad['PartType0','Masses'][hal_mask_PT0])\n",
    "        fil_PT0 = np.sum(ad['PartType0','Masses'][fil_mask_PT0])\n",
    "        voi_PT0 = np.sum(ad['PartType0','Masses'][voi_mask_PT0])\n",
    "        #PartType4 (stars)\n",
    "        tot_PT4 = np.sum(ad['PartType4','Masses'])\n",
    "        hal_PT4 = np.sum(ad['PartType4','Masses'][hal_mask_PT4])\n",
    "        fil_PT4 = np.sum(ad['PartType4','Masses'][fil_mask_PT4])\n",
    "        voi_PT4 = np.sum(ad['PartType4','Masses'][voi_mask_PT4])\n",
    "\n",
    "        ##########################\n",
    "        #append results to arrays#\n",
    "        ##########################\n",
    "\n",
    "        #PartType0 (gas)\n",
    "        tot_PT0_arr.append(tot_PT0)\n",
    "        hal_PT0_arr.append(hal_PT0)\n",
    "        fil_PT0_arr.append(fil_PT0) \n",
    "        voi_PT0_arr.append(voi_PT0) \n",
    "        #PartType4 (gas)\n",
    "        tot_PT4_arr.append(tot_PT4)\n",
    "        hal_PT4_arr.append(hal_PT4)\n",
    "        fil_PT4_arr.append(fil_PT4) \n",
    "        voi_PT4_arr.append(voi_PT4)\n",
    "        \n",
    "    ######################################################    \n",
    "    #append all results for a snapshot to the final array#\n",
    "    ######################################################\n",
    "    \n",
    "    #PartType0 (gas)\n",
    "    allsnaps_tot_PT0_arr.append(tot_PT0_arr)\n",
    "    allsnaps_hal_PT0_arr.append(hal_PT0_arr)\n",
    "    allsnaps_fil_PT0_arr.append(fil_PT0_arr) \n",
    "    allsnaps_voi_PT0_arr.append(voi_PT0_arr) \n",
    "    #PartType4 (gas)\n",
    "    allsnaps_tot_PT4_arr.append(tot_PT4_arr)\n",
    "    allsnaps_hal_PT4_arr.append(hal_PT4_arr)\n",
    "    allsnaps_fil_PT4_arr.append(fil_PT4_arr) \n",
    "    allsnaps_voi_PT4_arr.append(voi_PT4_arr)    \n",
    "    \n",
    "    allsnaps_m_p_array.append(m_p_array)\n",
    "    allsnaps_dens_crit_array.append(dens_crit_array)\n",
    "    allsnaps_redshifts.append(redshifts)\n",
    "\n",
    "    \n",
    "    print('filled baryon arrays')\n",
    "    \n",
    "    "
   ]
  },
  {
   "cell_type": "code",
   "execution_count": 4,
   "id": "2e05e7e5",
   "metadata": {},
   "outputs": [],
   "source": [
    "#########################\n",
    "#convert to numpy arrays#\n",
    "#########################\n",
    "\n",
    "#tot_PT0_arr=np.array(tot_PT0_arr)\n",
    "#hal_PT0_arr=np.array(hal_PT0_arr)\n",
    "#fil_PT0_arr=np.array(fil_PT0_arr)\n",
    "#voi_PT0_arr=np.array(voi_PT0_arr)\n",
    "\n",
    "#tot_PT4_arr=np.array(tot_PT4_arr)\n",
    "#hal_PT4_arr=np.array(hal_PT4_arr)\n",
    "#fil_PT4_arr=np.array(fil_PT4_arr)\n",
    "#voi_PT4_arr=np.array(voi_PT4_arr)\n",
    "\n",
    "allsnaps_tot_PT0_arr = np.array(allsnaps_tot_PT0_arr)\n",
    "allsnaps_hal_PT0_arr = np.array(allsnaps_hal_PT0_arr)\n",
    "allsnaps_fil_PT0_arr = np.array(allsnaps_fil_PT0_arr)\n",
    "allsnaps_voi_PT0_arr = np.array(allsnaps_voi_PT0_arr)\n",
    "\n",
    "allsnaps_tot_PT4_arr = np.array(allsnaps_tot_PT4_arr)\n",
    "allsnaps_hal_PT4_arr = np.array(allsnaps_hal_PT4_arr)\n",
    "allsnaps_fil_PT4_arr = np.array(allsnaps_fil_PT4_arr)\n",
    "allsnaps_voi_PT4_arr = np.array(allsnaps_voi_PT4_arr)\n",
    "\n",
    "allsnaps_redshifts = np.array(allsnaps_redshifts)\n",
    "allsnaps_m_p_array = np.array(allsnaps_m_p_array)\n",
    "allsnaps_dens_crit_array = np.array(allsnaps_dens_crit_array)"
   ]
  },
  {
   "cell_type": "code",
   "execution_count": 5,
   "id": "cd8d0221",
   "metadata": {},
   "outputs": [
    {
     "name": "stdout",
     "output_type": "stream",
     "text": [
      "1\n",
      "(1, 1)\n",
      "(1, 1)\n",
      "(1, 1)\n",
      "(1, 1)\n",
      "(1, 1)\n",
      "(1, 1)\n",
      "(1, 1)\n",
      "(1, 1)\n",
      "(1, 1)\n",
      "(1,)\n",
      "[0.50304752]\n"
     ]
    }
   ],
   "source": [
    "###############\n",
    "#check lengths#\n",
    "###############\n",
    "\n",
    "print(len(snapshots))\n",
    "print(allsnaps_redshifts.shape)\n",
    "print(allsnaps_m_p_array.shape)\n",
    "print(allsnaps_dens_crit_array.shape)\n",
    "print(allsnaps_hal_PT0_arr.shape)\n",
    "print(allsnaps_fil_PT0_arr.shape)\n",
    "print(allsnaps_voi_PT0_arr.shape)\n",
    "print(allsnaps_hal_PT4_arr.shape)\n",
    "print(allsnaps_fil_PT4_arr.shape)\n",
    "print(allsnaps_voi_PT4_arr.shape)\n",
    "\n",
    "\n",
    "print(allsnaps_tot_PT0_arr.sum(axis=1).shape) #summing chunks for each snapshot\n",
    "print(allsnaps_redshifts.mean(axis=1)) #recovering the redshift for each snapshot"
   ]
  },
  {
   "cell_type": "code",
   "execution_count": 6,
   "id": "7d5e7528",
   "metadata": {},
   "outputs": [
    {
     "name": "stdout",
     "output_type": "stream",
     "text": [
      "[[559385.39283825]]\n",
      "[[116047.26667843]]\n",
      "[[443338.11283495]]\n",
      "[[16074.35808849]]\n",
      "[[9059.99653625]]\n",
      "[[9051.69578687]]\n",
      "[[8.30074938]]\n",
      "[[0.23881572]]\n"
     ]
    }
   ],
   "source": [
    "#print values\n",
    "print(allsnaps_tot_PT0_arr)\n",
    "print(allsnaps_hal_PT0_arr)\n",
    "print(allsnaps_fil_PT0_arr)\n",
    "print(allsnaps_voi_PT0_arr)\n",
    "\n",
    "print(allsnaps_tot_PT4_arr)\n",
    "print(allsnaps_hal_PT4_arr)\n",
    "print(allsnaps_fil_PT4_arr)\n",
    "print(allsnaps_voi_PT4_arr)"
   ]
  }
 ],
 "metadata": {
  "kernelspec": {
   "display_name": "Python 3",
   "language": "python",
   "name": "python3"
  },
  "language_info": {
   "codemirror_mode": {
    "name": "ipython",
    "version": 3
   },
   "file_extension": ".py",
   "mimetype": "text/x-python",
   "name": "python",
   "nbconvert_exporter": "python",
   "pygments_lexer": "ipython3",
   "version": "3.7.6"
  }
 },
 "nbformat": 4,
 "nbformat_minor": 5
}
