{
 "cells": [
  {
   "cell_type": "markdown",
   "metadata": {},
   "source": [
    "# Notes"
   ]
  },
  {
   "attachments": {},
   "cell_type": "markdown",
   "metadata": {},
   "source": [
    "This notebook attempts to plot the baryonic mass fraction of halos, filaments and voids in the IllustrisTNG simulation in the style of Figure 2 from Martizzi+19 (https://arxiv.org/abs/1810.01883) and Figure A.1 from Artale+21 (https://arxiv.org/abs/2102.01092)\n",
    "\n",
    "Code is adapted from Plot_evolving_density_structures.ipynb"
   ]
  },
  {
   "cell_type": "markdown",
   "metadata": {},
   "source": [
    "# Imports"
   ]
  },
  {
   "cell_type": "code",
   "execution_count": 1,
   "metadata": {},
   "outputs": [
    {
     "name": "stderr",
     "output_type": "stream",
     "text": [
      "/draco/u/cwalker/virtual_environments/yt-git/yt/utilities/logger.py:4: VisibleDeprecationWarning: The configuration file /u/cwalker/.config/yt/ytrc is deprecated in favor of /u/cwalker/.config/yt/yt.toml. Currently, both are present. Please manually remove the deprecated one to silence this warning.\n",
      "Deprecated since v4.0.0 . This feature will be removed in v4.1.0\n",
      "  from yt.config import ytcfg\n"
     ]
    }
   ],
   "source": [
    "import numpy as np\n",
    "from matplotlib import pyplot as plt\n",
    "import yt\n",
    "import trident\n",
    "from trident import LightRay\n",
    "import illustris_python as il\n",
    "from astropy import units as u\n",
    "from astropy import constants as c\n",
    "from yt.utilities.cosmology import Cosmology\n",
    "from matplotlib import pyplot as plt\n"
   ]
  },
  {
   "cell_type": "markdown",
   "metadata": {},
   "source": [
    "# Choose snapshots to plot for"
   ]
  },
  {
   "cell_type": "code",
   "execution_count": 2,
   "metadata": {},
   "outputs": [],
   "source": [
    "snapshots = [99,91,84,78,72,67,59,50,40,33,25,21,17]#,13,11,8,6,4,3,2]\n"
   ]
  },
  {
   "cell_type": "markdown",
   "metadata": {},
   "source": [
    "# Begin"
   ]
  },
  {
   "cell_type": "code",
   "execution_count": null,
   "metadata": {
    "scrolled": true
   },
   "outputs": [
    {
     "name": "stdout",
     "output_type": "stream",
     "text": [
      "processsing snapshot 99\n",
      "loading snapshot header\n",
      "header loaded.\n",
      "loading dataset: /virgo/simulations/IllustrisTNG/TNG100-3/output/snapdir_099/snap_099.0.hdf5\n"
     ]
    },
    {
     "name": "stderr",
     "output_type": "stream",
     "text": [
      "yt : [INFO     ] 2021-05-17 15:26:45,891 Calculating time from 1.000e+00 to be 4.356e+17 seconds\n",
      "yt : [INFO     ] 2021-05-17 15:26:45,956 Parameters: current_time              = 4.355810528213311e+17 s\n",
      "yt : [INFO     ] 2021-05-17 15:26:45,957 Parameters: domain_dimensions         = [1 1 1]\n",
      "yt : [INFO     ] 2021-05-17 15:26:45,957 Parameters: domain_left_edge          = [0. 0. 0.]\n",
      "yt : [INFO     ] 2021-05-17 15:26:45,958 Parameters: domain_right_edge         = [75000. 75000. 75000.]\n",
      "yt : [INFO     ] 2021-05-17 15:26:45,959 Parameters: cosmological_simulation   = 1\n",
      "yt : [INFO     ] 2021-05-17 15:26:45,959 Parameters: current_redshift          = 2.220446049250313e-16\n",
      "yt : [INFO     ] 2021-05-17 15:26:45,960 Parameters: omega_lambda              = 0.6911\n",
      "yt : [INFO     ] 2021-05-17 15:26:45,960 Parameters: omega_matter              = 0.3089\n",
      "yt : [INFO     ] 2021-05-17 15:26:45,961 Parameters: omega_radiation           = 0.0\n",
      "yt : [INFO     ] 2021-05-17 15:26:45,961 Parameters: hubble_constant           = 0.6774\n"
     ]
    },
    {
     "name": "stdout",
     "output_type": "stream",
     "text": [
      "data loaded.\n",
      "calculating proton mass:\n",
      "proton mass: 8.411856872862986e-58 Msun\n"
     ]
    },
    {
     "name": "stderr",
     "output_type": "stream",
     "text": [
      "yt : [INFO     ] 2021-05-17 15:26:49,309 Allocating for 3.738e+08 particles\n",
      "Initializing coarse index : 100%|█████████▉| 721/722 [01:42<00:00,  7.05it/s]\n",
      "Initializing refined index: 100%|█████████▉| 721/722 [25:08<00:02,  2.09s/it]\n"
     ]
    },
    {
     "name": "stdout",
     "output_type": "stream",
     "text": [
      "Calculating critical density of the Universe\n",
      "grav=6.6743e-11 m**3/(kg*s**2)\n",
      "H0 = 71.0 km/(Mpc*s)\n",
      "critical density is: 9.468720094206941e-27 kg/m**3\n",
      "critical density in kg/m^3: 9.468720094206941e-27 kg/m**3\n",
      "filled baryon arrays\n",
      "processsing snapshot 91\n",
      "loading snapshot header\n",
      "header loaded.\n",
      "loading dataset: /virgo/simulations/IllustrisTNG/TNG100-3/output/snapdir_091/snap_091.0.hdf5\n"
     ]
    },
    {
     "name": "stderr",
     "output_type": "stream",
     "text": [
      "yt : [INFO     ] 2021-05-17 15:56:10,718 Calculating time from 9.096e-01 to be 3.934e+17 seconds\n",
      "yt : [INFO     ] 2021-05-17 15:56:10,802 Parameters: current_time              = 3.934088884834162e+17 s\n",
      "yt : [INFO     ] 2021-05-17 15:56:10,803 Parameters: domain_dimensions         = [1 1 1]\n",
      "yt : [INFO     ] 2021-05-17 15:56:10,803 Parameters: domain_left_edge          = [0. 0. 0.]\n",
      "yt : [INFO     ] 2021-05-17 15:56:10,804 Parameters: domain_right_edge         = [75000. 75000. 75000.]\n",
      "yt : [INFO     ] 2021-05-17 15:56:10,805 Parameters: cosmological_simulation   = 1\n",
      "yt : [INFO     ] 2021-05-17 15:56:10,805 Parameters: current_redshift          = 0.09940180263022191\n",
      "yt : [INFO     ] 2021-05-17 15:56:10,806 Parameters: omega_lambda              = 0.6911\n",
      "yt : [INFO     ] 2021-05-17 15:56:10,806 Parameters: omega_matter              = 0.3089\n",
      "yt : [INFO     ] 2021-05-17 15:56:10,807 Parameters: omega_radiation           = 0.0\n",
      "yt : [INFO     ] 2021-05-17 15:56:10,807 Parameters: hubble_constant           = 0.6774\n"
     ]
    },
    {
     "name": "stdout",
     "output_type": "stream",
     "text": [
      "data loaded.\n",
      "calculating proton mass:\n",
      "proton mass: 8.411856872862986e-58 Msun\n"
     ]
    },
    {
     "name": "stderr",
     "output_type": "stream",
     "text": [
      "yt : [INFO     ] 2021-05-17 15:56:15,923 Allocating for 3.739e+08 particles\n",
      "Initializing coarse index : 100%|█████████▉| 722/723 [01:51<00:00,  6.47it/s]\n",
      "Initializing refined index: 100%|█████████▉| 722/723 [23:03<00:01,  1.92s/it]\n"
     ]
    },
    {
     "name": "stdout",
     "output_type": "stream",
     "text": [
      "Calculating critical density of the Universe\n",
      "grav=6.6743e-11 m**3/(kg*s**2)\n",
      "H0 = 71.0 km/(Mpc*s)\n",
      "critical density is: 9.468720094206941e-27 kg/m**3\n",
      "critical density in kg/m^3: 9.468720094206941e-27 kg/m**3\n",
      "filled baryon arrays\n",
      "processsing snapshot 84\n",
      "loading snapshot header\n",
      "header loaded.\n",
      "loading dataset: /virgo/simulations/IllustrisTNG/TNG100-3/output/snapdir_084/snap_084.0.hdf5\n"
     ]
    },
    {
     "name": "stderr",
     "output_type": "stream",
     "text": [
      "yt : [INFO     ] 2021-05-17 16:23:27,914 Calculating time from 8.352e-01 to be 3.573e+17 seconds\n",
      "yt : [INFO     ] 2021-05-17 16:23:27,992 Parameters: current_time              = 3.5730710036197434e+17 s\n",
      "yt : [INFO     ] 2021-05-17 16:23:27,992 Parameters: domain_dimensions         = [1 1 1]\n",
      "yt : [INFO     ] 2021-05-17 16:23:27,993 Parameters: domain_left_edge          = [0. 0. 0.]\n",
      "yt : [INFO     ] 2021-05-17 16:23:27,994 Parameters: domain_right_edge         = [75000. 75000. 75000.]\n",
      "yt : [INFO     ] 2021-05-17 16:23:27,994 Parameters: cosmological_simulation   = 1\n",
      "yt : [INFO     ] 2021-05-17 16:23:27,995 Parameters: current_redshift          = 0.19728418237600986\n",
      "yt : [INFO     ] 2021-05-17 16:23:27,995 Parameters: omega_lambda              = 0.6911\n",
      "yt : [INFO     ] 2021-05-17 16:23:27,996 Parameters: omega_matter              = 0.3089\n",
      "yt : [INFO     ] 2021-05-17 16:23:27,996 Parameters: omega_radiation           = 0.0\n",
      "yt : [INFO     ] 2021-05-17 16:23:27,997 Parameters: hubble_constant           = 0.6774\n"
     ]
    },
    {
     "name": "stdout",
     "output_type": "stream",
     "text": [
      "data loaded.\n",
      "calculating proton mass:\n",
      "proton mass: 8.411856872862986e-58 Msun\n"
     ]
    },
    {
     "name": "stderr",
     "output_type": "stream",
     "text": [
      "yt : [INFO     ] 2021-05-17 16:23:33,712 Allocating for 3.740e+08 particles\n",
      "Initializing coarse index : 100%|█████████▉| 721/722 [01:55<00:00,  6.24it/s]\n",
      "Initializing refined index: 100%|█████████▉| 721/722 [21:58<00:01,  1.83s/it]\n"
     ]
    },
    {
     "name": "stdout",
     "output_type": "stream",
     "text": [
      "Calculating critical density of the Universe\n",
      "grav=6.6743e-11 m**3/(kg*s**2)\n",
      "H0 = 71.0 km/(Mpc*s)\n",
      "critical density is: 9.468720094206941e-27 kg/m**3\n",
      "critical density in kg/m^3: 9.468720094206941e-27 kg/m**3\n",
      "filled baryon arrays\n",
      "processsing snapshot 78\n",
      "loading snapshot header\n",
      "header loaded.\n",
      "loading dataset: /virgo/simulations/IllustrisTNG/TNG100-3/output/snapdir_078/snap_078.0.hdf5\n"
     ]
    },
    {
     "name": "stderr",
     "output_type": "stream",
     "text": [
      "yt : [INFO     ] 2021-05-17 16:49:34,566 Calculating time from 7.706e-01 to be 3.250e+17 seconds\n",
      "yt : [INFO     ] 2021-05-17 16:49:34,643 Parameters: current_time              = 3.249985189528167e+17 s\n",
      "yt : [INFO     ] 2021-05-17 16:49:34,644 Parameters: domain_dimensions         = [1 1 1]\n",
      "yt : [INFO     ] 2021-05-17 16:49:34,644 Parameters: domain_left_edge          = [0. 0. 0.]\n",
      "yt : [INFO     ] 2021-05-17 16:49:34,645 Parameters: domain_right_edge         = [75000. 75000. 75000.]\n",
      "yt : [INFO     ] 2021-05-17 16:49:34,646 Parameters: cosmological_simulation   = 1\n",
      "yt : [INFO     ] 2021-05-17 16:49:34,646 Parameters: current_redshift          = 0.2977176845174465\n",
      "yt : [INFO     ] 2021-05-17 16:49:34,647 Parameters: omega_lambda              = 0.6911\n",
      "yt : [INFO     ] 2021-05-17 16:49:34,647 Parameters: omega_matter              = 0.3089\n",
      "yt : [INFO     ] 2021-05-17 16:49:34,648 Parameters: omega_radiation           = 0.0\n",
      "yt : [INFO     ] 2021-05-17 16:49:34,648 Parameters: hubble_constant           = 0.6774\n"
     ]
    },
    {
     "name": "stdout",
     "output_type": "stream",
     "text": [
      "data loaded.\n",
      "calculating proton mass:\n",
      "proton mass: 8.411856872862986e-58 Msun\n"
     ]
    },
    {
     "name": "stderr",
     "output_type": "stream",
     "text": [
      "yt : [INFO     ] 2021-05-17 16:49:39,550 Allocating for 3.741e+08 particles\n",
      "Initializing coarse index : 100%|█████████▉| 721/722 [01:51<00:00,  6.45it/s]\n",
      "Initializing refined index: 100%|█████████▉| 721/722 [22:07<00:01,  1.84s/it]  \n"
     ]
    },
    {
     "name": "stdout",
     "output_type": "stream",
     "text": [
      "Calculating critical density of the Universe\n",
      "grav=6.6743e-11 m**3/(kg*s**2)\n",
      "H0 = 71.0 km/(Mpc*s)\n",
      "critical density is: 9.468720094206941e-27 kg/m**3\n",
      "critical density in kg/m^3: 9.468720094206941e-27 kg/m**3\n",
      "filled baryon arrays\n",
      "processsing snapshot 72\n",
      "loading snapshot header\n",
      "header loaded.\n",
      "loading dataset: /virgo/simulations/IllustrisTNG/TNG100-3/output/snapdir_072/snap_072.0.hdf5\n"
     ]
    },
    {
     "name": "stderr",
     "output_type": "stream",
     "text": [
      "yt : [INFO     ] 2021-05-17 17:15:47,978 Calculating time from 7.143e-01 to be 2.963e+17 seconds\n",
      "yt : [INFO     ] 2021-05-17 17:15:48,056 Parameters: current_time              = 2.962980875926263e+17 s\n",
      "yt : [INFO     ] 2021-05-17 17:15:48,056 Parameters: domain_dimensions         = [1 1 1]\n",
      "yt : [INFO     ] 2021-05-17 17:15:48,057 Parameters: domain_left_edge          = [0. 0. 0.]\n",
      "yt : [INFO     ] 2021-05-17 17:15:48,057 Parameters: domain_right_edge         = [75000. 75000. 75000.]\n",
      "yt : [INFO     ] 2021-05-17 17:15:48,058 Parameters: cosmological_simulation   = 1\n",
      "yt : [INFO     ] 2021-05-17 17:15:48,058 Parameters: current_redshift          = 0.3999269646135635\n",
      "yt : [INFO     ] 2021-05-17 17:15:48,059 Parameters: omega_lambda              = 0.6911\n",
      "yt : [INFO     ] 2021-05-17 17:15:48,059 Parameters: omega_matter              = 0.3089\n",
      "yt : [INFO     ] 2021-05-17 17:15:48,060 Parameters: omega_radiation           = 0.0\n",
      "yt : [INFO     ] 2021-05-17 17:15:48,060 Parameters: hubble_constant           = 0.6774\n"
     ]
    },
    {
     "name": "stdout",
     "output_type": "stream",
     "text": [
      "data loaded.\n",
      "calculating proton mass:\n",
      "proton mass: 8.411856872862986e-58 Msun\n"
     ]
    },
    {
     "name": "stderr",
     "output_type": "stream",
     "text": [
      "yt : [INFO     ] 2021-05-17 17:15:53,462 Allocating for 3.742e+08 particles\n",
      "Initializing coarse index : 100%|█████████▉| 720/721 [01:48<00:00,  6.63it/s]\n",
      "Initializing refined index: 100%|█████████▉| 720/721 [21:27<00:01,  1.79s/it]  \n"
     ]
    },
    {
     "name": "stdout",
     "output_type": "stream",
     "text": [
      "Calculating critical density of the Universe\n",
      "grav=6.6743e-11 m**3/(kg*s**2)\n",
      "H0 = 71.0 km/(Mpc*s)\n",
      "critical density is: 9.468720094206941e-27 kg/m**3\n",
      "critical density in kg/m^3: 9.468720094206941e-27 kg/m**3\n",
      "filled baryon arrays\n",
      "processsing snapshot 67\n",
      "loading snapshot header\n",
      "header loaded.\n",
      "loading dataset: /virgo/simulations/IllustrisTNG/TNG100-3/output/snapdir_067/snap_067.0.hdf5\n"
     ]
    },
    {
     "name": "stderr",
     "output_type": "stream",
     "text": [
      "yt : [INFO     ] 2021-05-17 17:41:22,035 Calculating time from 6.653e-01 to be 2.710e+17 seconds\n",
      "yt : [INFO     ] 2021-05-17 17:41:22,111 Parameters: current_time              = 2.7097180874458618e+17 s\n",
      "yt : [INFO     ] 2021-05-17 17:41:22,112 Parameters: domain_dimensions         = [1 1 1]\n",
      "yt : [INFO     ] 2021-05-17 17:41:22,113 Parameters: domain_left_edge          = [0. 0. 0.]\n",
      "yt : [INFO     ] 2021-05-17 17:41:22,113 Parameters: domain_right_edge         = [75000. 75000. 75000.]\n",
      "yt : [INFO     ] 2021-05-17 17:41:22,114 Parameters: cosmological_simulation   = 1\n",
      "yt : [INFO     ] 2021-05-17 17:41:22,115 Parameters: current_redshift          = 0.5030475232448832\n",
      "yt : [INFO     ] 2021-05-17 17:41:22,115 Parameters: omega_lambda              = 0.6911\n",
      "yt : [INFO     ] 2021-05-17 17:41:22,115 Parameters: omega_matter              = 0.3089\n",
      "yt : [INFO     ] 2021-05-17 17:41:22,116 Parameters: omega_radiation           = 0.0\n",
      "yt : [INFO     ] 2021-05-17 17:41:22,116 Parameters: hubble_constant           = 0.6774\n"
     ]
    },
    {
     "name": "stdout",
     "output_type": "stream",
     "text": [
      "data loaded.\n",
      "calculating proton mass:\n",
      "proton mass: 8.411856872862986e-58 Msun\n"
     ]
    },
    {
     "name": "stderr",
     "output_type": "stream",
     "text": [
      "yt : [INFO     ] 2021-05-17 17:41:27,489 Allocating for 3.743e+08 particles\n",
      "Initializing coarse index : 100%|█████████▉| 722/723 [02:14<00:00,  5.38it/s]\n",
      "Initializing refined index:   5%|▌         | 37/723 [01:18<24:09,  2.11s/it]"
     ]
    }
   ],
   "source": [
    "###################\n",
    "#initialise arrays#\n",
    "###################\n",
    "\n",
    "#redshift array\n",
    "redshifts=[]\n",
    "\n",
    "#baryon arrays\n",
    "#PartType0 (gas)\n",
    "tot_PT0_arr = []\n",
    "hal_PT0_arr = []\n",
    "fil_PT0_arr = []\n",
    "voi_PT0_arr = []\n",
    "#PartType4 (stars)\n",
    "tot_PT4_arr = []\n",
    "hal_PT4_arr = []\n",
    "fil_PT4_arr = []\n",
    "voi_PT4_arr = []\n",
    "\n",
    "#check arrays\n",
    "dens_crit_array = []\n",
    "m_p_array = []\n",
    "\n",
    "#####################\n",
    "#loop over snapshots#\n",
    "#####################\n",
    "\n",
    "for i in range(len(snapshots)):\n",
    "    \n",
    "    #################\n",
    "    #select snapshot#\n",
    "    #################\n",
    "    \n",
    "    snapshot = snapshots[i]\n",
    "    print('processsing snapshot {0:02d}'.format(snapshot))\n",
    "    \n",
    "    ######################\n",
    "    #load snapshot header#\n",
    "    ######################\n",
    "    \n",
    "    print('loading snapshot header')\n",
    "    basepath = '/virgo/simulations/IllustrisTNG/TNG100-3/output/'\n",
    "    header=il.groupcat.loadHeader(basepath,snapshot)\n",
    "    print('header loaded.')\n",
    "    \n",
    "    ########################################################\n",
    "    #extract redshift from header, append to redshift array#\n",
    "    ########################################################\n",
    "    \n",
    "    redshifts.append(header['Redshift'])\n",
    "    \n",
    "    #####################\n",
    "    #load Illustris data#\n",
    "    #####################\n",
    "    \n",
    "    data='/virgo/simulations/IllustrisTNG/TNG100-3/output/snapdir_0{0:02d}/snap_0{0:02d}.0.hdf5'.format(snapshot)\n",
    "    print('loading dataset: {0}'.format(data))\n",
    "    ds=yt.load(data)\n",
    "    print('data loaded.')\n",
    "\n",
    "    ####################################\n",
    "    #define proton mass in solar masses#\n",
    "    ####################################\n",
    "    \n",
    "    print('calculating proton mass:')\n",
    "    m_p = ds.quan((c.m_p).to(u.solMass).value,'Msun')\n",
    "    print ('proton mass: {0}'.format(m_p))\n",
    "    m_p_array.append(m_p)\n",
    "    \n",
    "    ds.index\n",
    "    \n",
    "    ############################################\n",
    "    #calculate critical density of the Universe#\n",
    "    ############################################\n",
    "    \n",
    "    print('Calculating critical density of the Universe')\n",
    "    co=Cosmology()\n",
    "    grav=ds.quan(6.6743e-11,'m**3/(kg*s**2)')\n",
    "    H=co.hubble_parameter(0).in_units('km/s/Mpc')\n",
    "    print('grav={0}'.format(grav))\n",
    "    print('H0 = {0}'.format(H))\n",
    "    dens_crit = ((3 * H**2)/(8*np.pi* grav))#.in_units('h**2/(code_length**3/(Msun*s**2))')\n",
    "    print ('critical density is: {0}'.format(dens_crit))\n",
    "    print('critical density in kg/m^3: {0}'.format(dens_crit.in_units('kg/m**3')))\n",
    "    dens_crit_array.append(dens_crit)\n",
    "    \n",
    "    ad = ds.all_data()\n",
    "    \n",
    "    ##########################################################\n",
    "    #convert dark matter density to units of critical density#\n",
    "    ##########################################################\n",
    "    \n",
    "    #PartType0 (gas)\n",
    "    dark_units_PT0 = ad['PartType0','SubfindDMDensity']*ds.quan(1e10,\"(Msun/h)/((code_length)**3)\")/dens_crit\n",
    "    #PartType4 (stars)\n",
    "    dark_units_PT4 = ad['PartType4','SubfindDMDensity']*ds.quan(1e10,\"(Msun/h)/((code_length)**3)\")/dens_crit\n",
    "    \n",
    "    ###############################################################\n",
    "    #create Large-Scale Structure (LSS) masks for each matter type#\n",
    "    ###############################################################\n",
    "    \n",
    "    #PartType0 (gas)\n",
    "    voi_mask_PT0 = dark_units_PT0 < 0.1\n",
    "    fil_mask_PT0 = ((dark_units_PT0 >= 0.1) & (dark_units_PT0<57))\n",
    "    hal_mask_PT0 = dark_units_PT0 >= 0.57\n",
    "    #PartType4 (stars)\n",
    "    voi_mask_PT4 = dark_units_PT4 < 0.1\n",
    "    fil_mask_PT4 = ((dark_units_PT4 >= 0.1) & (dark_units_PT4<57))\n",
    "    hal_mask_PT4 = dark_units_PT4 >= 0.57\n",
    "\n",
    "    ##########################################################\n",
    "    #calculate mass in each LSS for each baryonic matter type#\n",
    "    ##########################################################\n",
    "    \n",
    "    #PartType0 (gas)\n",
    "    tot_PT0 = np.sum(ad['PartType0','Masses'])\n",
    "    hal_PT0 = np.sum(ad['PartType0','Masses'][hal_mask_PT0])\n",
    "    fil_PT0 = np.sum(ad['PartType0','Masses'][fil_mask_PT0])\n",
    "    voi_PT0 = np.sum(ad['PartType0','Masses'][voi_mask_PT0])\n",
    "    #PartType4 (stars)\n",
    "    tot_PT4 = np.sum(ad['PartType4','Masses'])\n",
    "    hal_PT4 = np.sum(ad['PartType4','Masses'][hal_mask_PT4])\n",
    "    fil_PT4 = np.sum(ad['PartType4','Masses'][fil_mask_PT4])\n",
    "    voi_PT4 = np.sum(ad['PartType4','Masses'][voi_mask_PT4])\n",
    "    \n",
    "    ##########################\n",
    "    #append results to arrays#\n",
    "    ##########################\n",
    "    \n",
    "    #PartType0 (gas)\n",
    "    tot_PT0_arr.append(tot_PT0)\n",
    "    hal_PT0_arr.append(hal_PT0)\n",
    "    fil_PT0_arr.append(fil_PT0) \n",
    "    voi_PT0_arr.append(voi_PT0) \n",
    "    #PartType4 (gas)\n",
    "    tot_PT4_arr.append(tot_PT4)\n",
    "    hal_PT4_arr.append(hal_PT4)\n",
    "    fil_PT4_arr.append(fil_PT4) \n",
    "    voi_PT4_arr.append(voi_PT4) \n",
    "    \n",
    "    print('filled baryon arrays')\n",
    "    \n",
    "    \n",
    "    \n",
    "    "
   ]
  },
  {
   "cell_type": "code",
   "execution_count": 26,
   "metadata": {},
   "outputs": [],
   "source": [
    "#########################\n",
    "#convert to numpy arrays#\n",
    "#########################\n",
    "\n",
    "tot_PT0_arr=np.array(tot_PT0_arr)\n",
    "hal_PT0_arr=np.array(hal_PT0_arr)\n",
    "fil_PT0_arr=np.array(fil_PT0_arr)\n",
    "voi_PT0_arr=np.array(voi_PT0_arr)\n",
    "\n",
    "tot_PT4_arr=np.array(tot_PT4_arr)\n",
    "hal_PT4_arr=np.array(hal_PT4_arr)\n",
    "fil_PT4_arr=np.array(fil_PT4_arr)\n",
    "voi_PT4_arr=np.array(voi_PT4_arr)"
   ]
  },
  {
   "cell_type": "code",
   "execution_count": 27,
   "metadata": {},
   "outputs": [
    {
     "name": "stdout",
     "output_type": "stream",
     "text": [
      "13\n",
      "13\n",
      "13\n",
      "13\n",
      "13\n",
      "13\n",
      "13\n",
      "13\n",
      "13\n",
      "13\n"
     ]
    }
   ],
   "source": [
    "###############\n",
    "#check lengths#\n",
    "###############\n",
    "\n",
    "print(len(snapshots))\n",
    "print(len(redshifts))\n",
    "print(len(m_p_array))\n",
    "print(len(dens_crit_array))\n",
    "print(len(hal_PT0_arr))\n",
    "print(len(fil_PT0_arr))\n",
    "print(len(voi_PT0_arr))\n",
    "print(len(hal_PT4_arr))\n",
    "print(len(fil_PT4_arr))\n",
    "print(len(voi_PT4_arr))"
   ]
  },
  {
   "cell_type": "code",
   "execution_count": 28,
   "metadata": {},
   "outputs": [],
   "source": [
    "#######################\n",
    "#create mass fractions#\n",
    "#######################\n",
    "\n",
    "hal_frac = (hal_PT0_arr + hal_PT4_arr)/(hal_PT0_arr + hal_PT4_arr + fil_PT0_arr + fil_PT4_arr + voi_PT0_arr + voi_PT4_arr)\n",
    "fil_frac = (fil_PT0_arr + fil_PT4_arr)/(hal_PT0_arr + hal_PT4_arr + fil_PT0_arr + fil_PT4_arr + voi_PT0_arr + voi_PT4_arr)\n",
    "voi_frac = (voi_PT0_arr + voi_PT4_arr)/(hal_PT0_arr + hal_PT4_arr + fil_PT0_arr + fil_PT4_arr + voi_PT0_arr + voi_PT4_arr)\n"
   ]
  },
  {
   "cell_type": "code",
   "execution_count": 30,
   "metadata": {},
   "outputs": [
    {
     "data": {
      "image/png": "[encoded data removed]",
      "text/plain": [
       "<Figure size 864x648 with 1 Axes>"
      ]
     },
     "metadata": {
      "needs_background": "light"
     },
     "output_type": "display_data"
    }
   ],
   "source": [
    "#####################\n",
    "#plot mass fractions#\n",
    "#####################\n",
    "\n",
    "fig=plt.figure(figsize=(12,9))\n",
    "\n",
    "ax1=fig.add_subplot(111)\n",
    "ax1.set_xlabel('z',fontsize=15)\n",
    "ax1.set_ylabel('mf',fontsize=15)\n",
    "ax1.set_yscale('log')\n",
    "\n",
    "ax1.plot(redshifts[0:10],hal_frac[0:10],label='halo')\n",
    "ax1.plot(redshifts[0:10],fil_frac[0:10],label='filament')\n",
    "ax1.plot(redshifts[0:10],voi_frac[0:10],label='void')\n",
    "\n",
    "\n",
    "plt.legend(fontsize=15)\n",
    "plt.savefig('evolving_mass_fraction.png')\n",
    "plt.show()"
   ]
  }
 ],
 "metadata": {
  "kernelspec": {
   "display_name": "Python 3",
   "language": "python",
   "name": "python3"
  },
  "language_info": {
   "codemirror_mode": {
    "name": "ipython",
    "version": 3
   },
   "file_extension": ".py",
   "mimetype": "text/x-python",
   "name": "python",
   "nbconvert_exporter": "python",
   "pygments_lexer": "ipython3",
   "version": "3.7.6"
  }
 },
 "nbformat": 4,
 "nbformat_minor": 4
}
