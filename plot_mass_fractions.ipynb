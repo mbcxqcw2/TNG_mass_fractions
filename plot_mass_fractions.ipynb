{
 "cells": [
  {
   "cell_type": "markdown",
   "metadata": {},
   "source": [
    "# Notes"
   ]
  },
  {
   "cell_type": "markdown",
   "metadata": {},
   "source": [
    "This notebook attempts to plot the baryonic mass fraction of halos, filaments and voids in the IllustrisTNG simulation in the style of Figure 2 from Martizzi+19 (https://arxiv.org/abs/1810.01883) and Figure A.1 from Artale+21 (https://arxiv.org/abs/2102.01092)\n",
    "\n",
    "Code is adapted from Plot_evolving_density_structures.ipynb"
   ]
  },
  {
   "cell_type": "markdown",
   "metadata": {},
   "source": [
    "# Imports"
   ]
  },
  {
   "cell_type": "code",
   "execution_count": 1,
   "metadata": {},
   "outputs": [
    {
     "name": "stderr",
     "output_type": "stream",
     "text": [
      "/draco/u/cwalker/virtual_environments/yt-git/yt/utilities/logger.py:4: VisibleDeprecationWarning: The configuration file /u/cwalker/.config/yt/ytrc is deprecated in favor of /u/cwalker/.config/yt/yt.toml. Currently, both are present. Please manually remove the deprecated one to silence this warning.\n",
      "Deprecated since v4.0.0 . This feature will be removed in v4.1.0\n",
      "  from yt.config import ytcfg\n"
     ]
    }
   ],
   "source": [
    "import numpy as np\n",
    "from matplotlib import pyplot as plt\n",
    "import yt\n",
    "import trident\n",
    "from trident import LightRay\n",
    "import illustris_python as il\n",
    "from astropy import units as u\n",
    "from astropy import constants as c\n",
    "from yt.utilities.cosmology import Cosmology\n",
    "from matplotlib import pyplot as plt\n"
   ]
  },
  {
   "cell_type": "markdown",
   "metadata": {},
   "source": [
    "# Choose snapshots and chunks to plot for"
   ]
  },
  {
   "cell_type": "code",
   "execution_count": 9,
   "metadata": {},
   "outputs": [],
   "source": [
    "snapshots = [99,91,84,78,72,67,59,50,40,33,25,21,17]#,13,11,8,6,4,3,2]\n",
    "chunks = [0,1,2,3,4,5,6] #each TNG100-3 snapshot has chunks running from 0 to 6 inclusive"
   ]
  },
  {
   "cell_type": "markdown",
   "metadata": {},
   "source": [
    "# Begin"
   ]
  },
  {
   "cell_type": "code",
   "execution_count": null,
   "metadata": {
    "scrolled": true
   },
   "outputs": [
    {
     "name": "stdout",
     "output_type": "stream",
     "text": [
      "processsing snapshot 99, chunk 0\n",
      "loading snapshot header\n",
      "header loaded.\n",
      "loading dataset: /virgo/simulations/IllustrisTNG/TNG100-3/output/snapdir_099/snap_099.0.hdf5\n"
     ]
    },
    {
     "name": "stderr",
     "output_type": "stream",
     "text": [
      "yt : [INFO     ] 2021-05-20 16:29:24,892 Calculating time from 1.000e+00 to be 4.356e+17 seconds\n",
      "yt : [INFO     ] 2021-05-20 16:29:24,977 Parameters: current_time              = 4.355810528213311e+17 s\n",
      "yt : [INFO     ] 2021-05-20 16:29:24,977 Parameters: domain_dimensions         = [1 1 1]\n",
      "yt : [INFO     ] 2021-05-20 16:29:24,978 Parameters: domain_left_edge          = [0. 0. 0.]\n",
      "yt : [INFO     ] 2021-05-20 16:29:24,979 Parameters: domain_right_edge         = [75000. 75000. 75000.]\n",
      "yt : [INFO     ] 2021-05-20 16:29:24,979 Parameters: cosmological_simulation   = 1\n",
      "yt : [INFO     ] 2021-05-20 16:29:24,980 Parameters: current_redshift          = 2.220446049250313e-16\n",
      "yt : [INFO     ] 2021-05-20 16:29:24,980 Parameters: omega_lambda              = 0.6911\n",
      "yt : [INFO     ] 2021-05-20 16:29:24,981 Parameters: omega_matter              = 0.3089\n",
      "yt : [INFO     ] 2021-05-20 16:29:24,982 Parameters: omega_radiation           = 0.0\n",
      "yt : [INFO     ] 2021-05-20 16:29:24,982 Parameters: hubble_constant           = 0.6774\n"
     ]
    },
    {
     "name": "stdout",
     "output_type": "stream",
     "text": [
      "data loaded.\n",
      "calculating proton mass:\n",
      "proton mass: 8.411856872862986e-58 Msun\n"
     ]
    },
    {
     "name": "stderr",
     "output_type": "stream",
     "text": [
      "yt : [INFO     ] 2021-05-20 16:29:30,126 Allocating for 3.738e+08 particles\n",
      "Initializing coarse index : 100%|█████████▉| 721/722 [01:58<00:00,  6.09it/s]\n",
      "Initializing refined index: 100%|█████████▉| 721/722 [24:45<00:02,  2.06s/it]  \n"
     ]
    },
    {
     "name": "stdout",
     "output_type": "stream",
     "text": [
      "Calculating critical density of the Universe\n",
      "grav=6.6743e-11 m**3/(kg*s**2)\n",
      "H0 = 71.0 km/(Mpc*s)\n",
      "critical density is: 9.468720094206941e-27 kg/m**3\n",
      "critical density in kg/m^3: 9.468720094206941e-27 kg/m**3\n",
      "processsing snapshot 99, chunk 1\n",
      "loading snapshot header\n",
      "header loaded.\n",
      "loading dataset: /virgo/simulations/IllustrisTNG/TNG100-3/output/snapdir_099/snap_099.1.hdf5\n"
     ]
    },
    {
     "name": "stderr",
     "output_type": "stream",
     "text": [
      "yt : [INFO     ] 2021-05-20 16:58:19,819 Calculating time from 1.000e+00 to be 4.356e+17 seconds\n",
      "yt : [INFO     ] 2021-05-20 16:58:19,901 Parameters: current_time              = 4.355810528213311e+17 s\n",
      "yt : [INFO     ] 2021-05-20 16:58:19,902 Parameters: domain_dimensions         = [1 1 1]\n",
      "yt : [INFO     ] 2021-05-20 16:58:19,902 Parameters: domain_left_edge          = [0. 0. 0.]\n",
      "yt : [INFO     ] 2021-05-20 16:58:19,903 Parameters: domain_right_edge         = [75000. 75000. 75000.]\n",
      "yt : [INFO     ] 2021-05-20 16:58:19,904 Parameters: cosmological_simulation   = 1\n",
      "yt : [INFO     ] 2021-05-20 16:58:19,904 Parameters: current_redshift          = 2.220446049250313e-16\n",
      "yt : [INFO     ] 2021-05-20 16:58:19,905 Parameters: omega_lambda              = 0.6911\n",
      "yt : [INFO     ] 2021-05-20 16:58:19,905 Parameters: omega_matter              = 0.3089\n",
      "yt : [INFO     ] 2021-05-20 16:58:19,906 Parameters: omega_radiation           = 0.0\n",
      "yt : [INFO     ] 2021-05-20 16:58:19,906 Parameters: hubble_constant           = 0.6774\n"
     ]
    },
    {
     "name": "stdout",
     "output_type": "stream",
     "text": [
      "data loaded.\n",
      "calculating proton mass:\n",
      "proton mass: 8.411856872862986e-58 Msun\n"
     ]
    },
    {
     "name": "stderr",
     "output_type": "stream",
     "text": [
      "yt : [INFO     ] 2021-05-20 16:58:22,500 Allocating for 3.738e+08 particles\n",
      "Initializing coarse index : 100%|█████████▉| 721/722 [01:41<00:00,  7.08it/s]\n",
      "Initializing refined index: 100%|█████████▉| 721/722 [23:08<00:01,  1.93s/it]\n"
     ]
    },
    {
     "name": "stdout",
     "output_type": "stream",
     "text": [
      "Calculating critical density of the Universe\n",
      "grav=6.6743e-11 m**3/(kg*s**2)\n",
      "H0 = 71.0 km/(Mpc*s)\n",
      "critical density is: 9.468720094206941e-27 kg/m**3\n",
      "critical density in kg/m^3: 9.468720094206941e-27 kg/m**3\n",
      "processsing snapshot 99, chunk 2\n",
      "loading snapshot header\n",
      "header loaded.\n",
      "loading dataset: /virgo/simulations/IllustrisTNG/TNG100-3/output/snapdir_099/snap_099.2.hdf5\n"
     ]
    },
    {
     "name": "stderr",
     "output_type": "stream",
     "text": [
      "yt : [INFO     ] 2021-05-20 17:25:20,495 Calculating time from 1.000e+00 to be 4.356e+17 seconds\n",
      "yt : [INFO     ] 2021-05-20 17:25:20,561 Parameters: current_time              = 4.355810528213311e+17 s\n",
      "yt : [INFO     ] 2021-05-20 17:25:20,562 Parameters: domain_dimensions         = [1 1 1]\n",
      "yt : [INFO     ] 2021-05-20 17:25:20,562 Parameters: domain_left_edge          = [0. 0. 0.]\n",
      "yt : [INFO     ] 2021-05-20 17:25:20,563 Parameters: domain_right_edge         = [75000. 75000. 75000.]\n",
      "yt : [INFO     ] 2021-05-20 17:25:20,564 Parameters: cosmological_simulation   = 1\n",
      "yt : [INFO     ] 2021-05-20 17:25:20,564 Parameters: current_redshift          = 2.220446049250313e-16\n",
      "yt : [INFO     ] 2021-05-20 17:25:20,565 Parameters: omega_lambda              = 0.6911\n",
      "yt : [INFO     ] 2021-05-20 17:25:20,565 Parameters: omega_matter              = 0.3089\n",
      "yt : [INFO     ] 2021-05-20 17:25:20,566 Parameters: omega_radiation           = 0.0\n",
      "yt : [INFO     ] 2021-05-20 17:25:20,566 Parameters: hubble_constant           = 0.6774\n"
     ]
    },
    {
     "name": "stdout",
     "output_type": "stream",
     "text": [
      "data loaded.\n",
      "calculating proton mass:\n",
      "proton mass: 8.411856872862986e-58 Msun\n"
     ]
    },
    {
     "name": "stderr",
     "output_type": "stream",
     "text": [
      "yt : [INFO     ] 2021-05-20 17:25:23,491 Allocating for 3.738e+08 particles\n",
      "Initializing coarse index : 100%|█████████▉| 721/722 [01:49<00:00,  6.58it/s]\n",
      "Initializing refined index:  89%|████████▉ | 644/722 [18:15<15:03, 11.58s/it]"
     ]
    }
   ],
   "source": [
    "######################################\n",
    "#initialise arrays that hold all data#\n",
    "######################################\n",
    "\n",
    "#redshift array\n",
    "allsnaps_redshifts=[]\n",
    "\n",
    "#baryon arrays\n",
    "#PartType0 (gas)\n",
    "allsnaps_tot_PT0_arr = []\n",
    "allsnaps_hal_PT0_arr = []\n",
    "allsnaps_fil_PT0_arr = []\n",
    "allsnaps_voi_PT0_arr = []\n",
    "#PartType4 (stars)\n",
    "allsnaps_tot_PT4_arr = []\n",
    "allsnaps_hal_PT4_arr = []\n",
    "allsnaps_fil_PT4_arr = []\n",
    "allsnaps_voi_PT4_arr = []\n",
    "\n",
    "#check arrays\n",
    "allsnaps_dens_crit_array = []\n",
    "allsnaps_m_p_array = []\n",
    "\n",
    "################################\n",
    "#loop over snapshots and chunks#\n",
    "################################\n",
    "\n",
    "for i in range(len(snapshots)):\n",
    "    \n",
    "    ######################################################\n",
    "    #initialise arrays that hold individual snapshot data#\n",
    "    ######################################################\n",
    "\n",
    "    #redshift array\n",
    "    redshifts=[]\n",
    "\n",
    "    #baryon arrays\n",
    "    #PartType0 (gas)\n",
    "    tot_PT0_arr = []\n",
    "    hal_PT0_arr = []\n",
    "    fil_PT0_arr = []\n",
    "    voi_PT0_arr = []\n",
    "    #PartType4 (stars)\n",
    "    tot_PT4_arr = []\n",
    "    hal_PT4_arr = []\n",
    "    fil_PT4_arr = []\n",
    "    voi_PT4_arr = []\n",
    "\n",
    "    #check arrays\n",
    "    dens_crit_array = []\n",
    "    m_p_array = []\n",
    "    \n",
    "    for j in range(len(chunks)):\n",
    "    \n",
    "        ###########################\n",
    "        #select snapshot and chunk#\n",
    "        ###########################\n",
    "\n",
    "        snapshot = snapshots[i]\n",
    "        chunk = chunks[j]\n",
    "        print('processsing snapshot {0:02d}, chunk {1}'.format(snapshot,chunk))\n",
    "\n",
    "        ######################\n",
    "        #load snapshot header#\n",
    "        ######################\n",
    "\n",
    "        print('loading snapshot header')\n",
    "        basepath = '/virgo/simulations/IllustrisTNG/TNG100-3/output/'\n",
    "        header=il.groupcat.loadHeader(basepath,snapshot)\n",
    "        print('header loaded.')\n",
    "\n",
    "        ########################################################\n",
    "        #extract redshift from header, append to redshift array#\n",
    "        ########################################################\n",
    "\n",
    "        redshifts.append(header['Redshift'])\n",
    "\n",
    "        #####################\n",
    "        #load Illustris data#\n",
    "        #####################\n",
    "\n",
    "        data='/virgo/simulations/IllustrisTNG/TNG100-3/output/snapdir_0{0:02d}/snap_0{0:02d}.{1}.hdf5'.format(snapshot,chunk)\n",
    "        print('loading dataset: {0}'.format(data))\n",
    "        ds=yt.load(data)\n",
    "        print('data loaded.')\n",
    "\n",
    "        ####################################\n",
    "        #define proton mass in solar masses#\n",
    "        ####################################\n",
    "\n",
    "        print('calculating proton mass:')\n",
    "        m_p = ds.quan((c.m_p).to(u.solMass).value,'Msun')\n",
    "        print ('proton mass: {0}'.format(m_p))\n",
    "        m_p_array.append(m_p)\n",
    "\n",
    "        ds.index\n",
    "\n",
    "        ############################################\n",
    "        #calculate critical density of the Universe#\n",
    "        ############################################\n",
    "\n",
    "        print('Calculating critical density of the Universe')\n",
    "        co=Cosmology()\n",
    "        grav=ds.quan(6.6743e-11,'m**3/(kg*s**2)')\n",
    "        H=co.hubble_parameter(0).in_units('km/s/Mpc')\n",
    "        print('grav={0}'.format(grav))\n",
    "        print('H0 = {0}'.format(H))\n",
    "        dens_crit = ((3 * H**2)/(8*np.pi* grav))#.in_units('h**2/(code_length**3/(Msun*s**2))')\n",
    "        print ('critical density is: {0}'.format(dens_crit))\n",
    "        print('critical density in kg/m^3: {0}'.format(dens_crit.in_units('kg/m**3')))\n",
    "        dens_crit_array.append(dens_crit)\n",
    "\n",
    "        ad = ds.all_data()\n",
    "\n",
    "        ##########################################################\n",
    "        #convert dark matter density to units of critical density#\n",
    "        ##########################################################\n",
    "\n",
    "        #PartType0 (gas)\n",
    "        dark_units_PT0 = ad['PartType0','SubfindDMDensity']*ds.quan(1e10,\"(Msun/h)/((code_length)**3)\")/dens_crit\n",
    "        #PartType4 (stars)\n",
    "        dark_units_PT4 = ad['PartType4','SubfindDMDensity']*ds.quan(1e10,\"(Msun/h)/((code_length)**3)\")/dens_crit\n",
    "\n",
    "        ###############################################################\n",
    "        #create Large-Scale Structure (LSS) masks for each matter type#\n",
    "        ###############################################################\n",
    "\n",
    "        #PartType0 (gas)\n",
    "        voi_mask_PT0 = dark_units_PT0 < 0.1\n",
    "        fil_mask_PT0 = np.logical_and(dark_units_PT0 >= 0.01, dark_units_PT0 < 57)\n",
    "        hal_mask_PT0 = dark_units_PT0 >= 57 \n",
    "        #PartType4 (stars)\n",
    "        voi_mask_PT4 = dark_units_PT4 < 0.1\n",
    "        fil_mask_PT4 = np.logical_and(dark_units_PT4 >= 0.01, dark_units_PT4 < 57)\n",
    "        hal_mask_PT4 = dark_units_PT4 >= 57\n",
    "\n",
    "        ##########################################################\n",
    "        #calculate mass in each LSS for each baryonic matter type#\n",
    "        ##########################################################\n",
    "\n",
    "        #PartType0 (gas)\n",
    "        tot_PT0 = np.sum(ad['PartType0','Masses'])\n",
    "        hal_PT0 = np.sum(ad['PartType0','Masses'][hal_mask_PT0])\n",
    "        fil_PT0 = np.sum(ad['PartType0','Masses'][fil_mask_PT0])\n",
    "        voi_PT0 = np.sum(ad['PartType0','Masses'][voi_mask_PT0])\n",
    "        #PartType4 (stars)\n",
    "        tot_PT4 = np.sum(ad['PartType4','Masses'])\n",
    "        hal_PT4 = np.sum(ad['PartType4','Masses'][hal_mask_PT4])\n",
    "        fil_PT4 = np.sum(ad['PartType4','Masses'][fil_mask_PT4])\n",
    "        voi_PT4 = np.sum(ad['PartType4','Masses'][voi_mask_PT4])\n",
    "\n",
    "        ##########################\n",
    "        #append results to arrays#\n",
    "        ##########################\n",
    "\n",
    "        #PartType0 (gas)\n",
    "        tot_PT0_arr.append(tot_PT0)\n",
    "        hal_PT0_arr.append(hal_PT0)\n",
    "        fil_PT0_arr.append(fil_PT0) \n",
    "        voi_PT0_arr.append(voi_PT0) \n",
    "        #PartType4 (gas)\n",
    "        tot_PT4_arr.append(tot_PT4)\n",
    "        hal_PT4_arr.append(hal_PT4)\n",
    "        fil_PT4_arr.append(fil_PT4) \n",
    "        voi_PT4_arr.append(voi_PT4)\n",
    "        \n",
    "    ######################################################    \n",
    "    #append all results for a snapshot to the final array#\n",
    "    ######################################################\n",
    "    \n",
    "    #PartType0 (gas)\n",
    "    allsnaps_tot_PT0_arr.append(tot_PT0_arr)\n",
    "    allsnaps_hal_PT0_arr.append(hal_PT0_arr)\n",
    "    allsnaps_fil_PT0_arr.append(fil_PT0_arr) \n",
    "    allsnaps_voi_PT0_arr.append(voi_PT0_arr) \n",
    "    #PartType4 (gas)\n",
    "    allsnaps_tot_PT4_arr.append(tot_PT4_arr)\n",
    "    allsnaps_hal_PT4_arr.append(hal_PT4_arr)\n",
    "    allsnaps_fil_PT4_arr.append(fil_PT4_arr) \n",
    "    allsnaps_voi_PT4_arr.append(voi_PT4_arr)    \n",
    "    \n",
    "    allsnaps_m_p_array.append(m_p_array)\n",
    "    allsnaps_dens_crit_array.append(dens_crit_array)\n",
    "    allsnaps_redshifts.append(redshifts)\n",
    "\n",
    "    \n",
    "    print('filled baryon arrays')\n",
    "    \n",
    "    \n",
    "    \n",
    "    "
   ]
  },
  {
   "cell_type": "code",
   "execution_count": 11,
   "metadata": {},
   "outputs": [],
   "source": [
    "#########################\n",
    "#convert to numpy arrays#\n",
    "#########################\n",
    "\n",
    "#tot_PT0_arr=np.array(tot_PT0_arr)\n",
    "#hal_PT0_arr=np.array(hal_PT0_arr)\n",
    "#fil_PT0_arr=np.array(fil_PT0_arr)\n",
    "#voi_PT0_arr=np.array(voi_PT0_arr)\n",
    "\n",
    "#tot_PT4_arr=np.array(tot_PT4_arr)\n",
    "#hal_PT4_arr=np.array(hal_PT4_arr)\n",
    "#fil_PT4_arr=np.array(fil_PT4_arr)\n",
    "#voi_PT4_arr=np.array(voi_PT4_arr)\n",
    "\n",
    "allsnaps_tot_PT0_arr = np.array(allsnaps_tot_PT0_arr)\n",
    "allsnaps_hal_PT0_arr = np.array(allsnaps_hal_PT0_arr)\n",
    "allsnaps_fil_PT0_arr = np.array(allsnaps_fil_PT0_arr)\n",
    "allsnaps_voi_PT0_arr = np.array(allsnaps_voi_PT0_arr)\n",
    "\n",
    "allsnaps_tot_PT4_arr = np.array(allsnaps_tot_PT4_arr)\n",
    "allsnaps_hal_PT4_arr = np.array(allsnaps_hal_PT4_arr)\n",
    "allsnaps_fil_PT4_arr = np.array(allsnaps_fil_PT4_arr)\n",
    "allsnaps_voi_PT4_arr = np.array(allsnaps_voi_PT4_arr)\n",
    "\n",
    "allsnaps_redshifts = np.array(allsnaps_redshifts)\n",
    "allsnaps_m_p_array = np.array(allsnaps_m_p_array)\n",
    "allsnaps_dens_crit_array = np.array(allsnaps_dens_crit_array)"
   ]
  },
  {
   "cell_type": "code",
   "execution_count": 65,
   "metadata": {},
   "outputs": [
    {
     "name": "stdout",
     "output_type": "stream",
     "text": [
      "13\n",
      "(13, 7)\n",
      "(13, 7)\n",
      "(13, 7)\n",
      "(13, 7)\n",
      "(13, 7)\n",
      "(13, 7)\n",
      "(13, 7)\n",
      "(13, 7)\n",
      "(13, 7)\n",
      "(13,)\n",
      "[2.22044605e-16 9.94018026e-02 1.97284182e-01 2.97717685e-01\n",
      " 3.99926965e-01 5.03047523e-01 7.00106354e-01 9.97294226e-01\n",
      " 1.49551217e+00 2.00202814e+00 3.00813107e+00 4.00794511e+00\n",
      " 4.99593347e+00]\n"
     ]
    }
   ],
   "source": [
    "###############\n",
    "#check lengths#\n",
    "###############\n",
    "\n",
    "print(len(snapshots))\n",
    "print(allsnaps_redshifts.shape)\n",
    "print(allsnaps_m_p_array.shape)\n",
    "print(allsnaps_dens_crit_array.shape)\n",
    "print(allsnaps_hal_PT0_arr.shape)\n",
    "print(allsnaps_fil_PT0_arr.shape)\n",
    "print(allsnaps_voi_PT0_arr.shape)\n",
    "print(allsnaps_hal_PT4_arr.shape)\n",
    "print(allsnaps_fil_PT4_arr.shape)\n",
    "print(allsnaps_voi_PT4_arr.shape)\n",
    "\n",
    "\n",
    "print(allsnaps_tot_PT0_arr.sum(axis=1).shape) #summing chunks for each snapshot\n",
    "print(allsnaps_redshifts.mean(axis=1)) #recovering the redshift for each snapshot"
   ]
  },
  {
   "cell_type": "code",
   "execution_count": 52,
   "metadata": {},
   "outputs": [
    {
     "name": "stdout",
     "output_type": "stream",
     "text": [
      "(13,)\n"
     ]
    }
   ],
   "source": [
    "##################################################\n",
    "#for each of the 13 snapshots, sum the masses in #\n",
    "#each of the 7 simulation subchunks to obtain    #\n",
    "#the total mass for the entire redshift          #\n",
    "##################################################\n",
    "\n",
    "tot_PT0_arr_summed = allsnaps_tot_PT0_arr.sum(axis=1)\n",
    "hal_PT0_arr_summed = allsnaps_hal_PT0_arr.sum(axis=1)\n",
    "fil_PT0_arr_summed = allsnaps_fil_PT0_arr.sum(axis=1)\n",
    "voi_PT0_arr_summed = allsnaps_voi_PT0_arr.sum(axis=1)\n",
    "\n",
    "tot_PT4_arr_summed = allsnaps_tot_PT4_arr.sum(axis=1)\n",
    "hal_PT4_arr_summed = allsnaps_hal_PT4_arr.sum(axis=1)\n",
    "fil_PT4_arr_summed = allsnaps_fil_PT4_arr.sum(axis=1)\n",
    "voi_PT4_arr_summed = allsnaps_voi_PT4_arr.sum(axis=1)\n",
    "\n",
    "print(allsnaps_hal_PT0_arr.sum(axis=1).shape)"
   ]
  },
  {
   "cell_type": "code",
   "execution_count": 53,
   "metadata": {},
   "outputs": [
    {
     "name": "stdout",
     "output_type": "stream",
     "text": [
      "(13,)\n"
     ]
    }
   ],
   "source": [
    "####################################################\n",
    "#for each of the 13 snapshots, sum the masses in   #\n",
    "#PT0 and PT4 to obtain the total baryonic mass for #\n",
    "#each redshift                                     #\n",
    "####################################################\n",
    "\n",
    "tot_PT14_arr_summed = tot_PT0_arr_summed + tot_PT4_arr_summed\n",
    "hal_PT14_arr_summed = hal_PT0_arr_summed + hal_PT4_arr_summed\n",
    "fil_PT14_arr_summed = fil_PT0_arr_summed + fil_PT4_arr_summed\n",
    "voi_PT14_arr_summed = voi_PT0_arr_summed + voi_PT4_arr_summed\n",
    "\n",
    "print(hal_PT14_arr_summed.shape)"
   ]
  },
  {
   "cell_type": "code",
   "execution_count": 54,
   "metadata": {},
   "outputs": [
    {
     "name": "stdout",
     "output_type": "stream",
     "text": [
      "(13,)\n"
     ]
    }
   ],
   "source": [
    "#######################\n",
    "#create mass fractions#\n",
    "#######################\n",
    "\n",
    "#hal_frac = (hal_PT0_arr + hal_PT4_arr)/(hal_PT0_arr + hal_PT4_arr + fil_PT0_arr + fil_PT4_arr + voi_PT0_arr + voi_PT4_arr)\n",
    "#fil_frac = (fil_PT0_arr + fil_PT4_arr)/(hal_PT0_arr + hal_PT4_arr + fil_PT0_arr + fil_PT4_arr + voi_PT0_arr + voi_PT4_arr)\n",
    "#voi_frac = (voi_PT0_arr + voi_PT4_arr)/(hal_PT0_arr + hal_PT4_arr + fil_PT0_arr + fil_PT4_arr + voi_PT0_arr + voi_PT4_arr)\n",
    "\n",
    "\n",
    "hal_frac = (hal_PT14_arr_summed)/(hal_PT14_arr_summed + fil_PT14_arr_summed + voi_PT14_arr_summed)\n",
    "fil_frac = (fil_PT14_arr_summed)/(hal_PT14_arr_summed + fil_PT14_arr_summed + voi_PT14_arr_summed)\n",
    "voi_frac = (voi_PT14_arr_summed)/(hal_PT14_arr_summed + fil_PT14_arr_summed + voi_PT14_arr_summed)\n",
    "\n",
    "print(hal_frac.shape)"
   ]
  },
  {
   "cell_type": "code",
   "execution_count": 55,
   "metadata": {},
   "outputs": [
    {
     "data": {
      "image/png": "[encoded data removed]",
      "text/plain": [
       "<Figure size 864x648 with 1 Axes>"
      ]
     },
     "metadata": {
      "needs_background": "light"
     },
     "output_type": "display_data"
    }
   ],
   "source": [
    "#####################\n",
    "#plot mass fractions#\n",
    "#####################\n",
    "\n",
    "fig=plt.figure(figsize=(12,9))\n",
    "\n",
    "ax1=fig.add_subplot(111)\n",
    "ax1.set_xlabel('z',fontsize=15)\n",
    "ax1.set_ylabel('mf',fontsize=15)\n",
    "ax1.set_yscale('log')\n",
    "\n",
    "ax1.plot((allsnaps_redshifts.mean(axis=1))[0:10],hal_frac[0:10],label='halo')\n",
    "ax1.plot((allsnaps_redshifts.mean(axis=1))[0:10],fil_frac[0:10],label='filament')\n",
    "ax1.plot((allsnaps_redshifts.mean(axis=1))[0:10],voi_frac[0:10],label='void')\n",
    "\n",
    "\n",
    "plt.legend(fontsize=15)\n",
    "plt.savefig('evolving_mass_fraction.png')\n",
    "plt.show()"
   ]
  },
  {
   "cell_type": "code",
   "execution_count": null,
   "metadata": {},
   "outputs": [],
   "source": []
  }
 ],
 "metadata": {
  "kernelspec": {
   "display_name": "Python 3",
   "language": "python",
   "name": "python3"
  },
  "language_info": {
   "codemirror_mode": {
    "name": "ipython",
    "version": 3
   },
   "file_extension": ".py",
   "mimetype": "text/x-python",
   "name": "python",
   "nbconvert_exporter": "python",
   "pygments_lexer": "ipython3",
   "version": "3.7.6"
  }
 },
 "nbformat": 4,
 "nbformat_minor": 4
}
