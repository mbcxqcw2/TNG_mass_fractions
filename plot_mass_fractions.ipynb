{
 "cells": [
  {
   "cell_type": "markdown",
   "metadata": {},
   "source": [
    "# Notes"
   ]
  },
  {
   "cell_type": "markdown",
   "metadata": {},
   "source": [
    "This notebook attempts to plot the baryonic mass fraction of halos, filaments and voids in the IllustrisTNG simulation in the style of Figure 2 from Martizzi+19 (https://arxiv.org/abs/1810.01883) and Figure A.1 from Artale+21 (https://arxiv.org/abs/2102.01092)\n",
    "\n",
    "Code is adapted from Plot_evolving_density_structures.ipynb"
   ]
  },
  {
   "cell_type": "markdown",
   "metadata": {},
   "source": [
    "# Imports"
   ]
  },
  {
   "cell_type": "code",
   "execution_count": 1,
   "metadata": {},
   "outputs": [
    {
     "name": "stderr",
     "output_type": "stream",
     "text": [
      "/draco/u/cwalker/virtual_environments/yt-git/yt/utilities/logger.py:4: VisibleDeprecationWarning: The configuration file /u/cwalker/.config/yt/ytrc is deprecated in favor of /u/cwalker/.config/yt/yt.toml. Currently, both are present. Please manually remove the deprecated one to silence this warning.\n",
      "Deprecated since v4.0.0 . This feature will be removed in v4.1.0\n",
      "  from yt.config import ytcfg\n"
     ]
    }
   ],
   "source": [
    "import numpy as np\n",
    "from matplotlib import pyplot as plt\n",
    "import yt\n",
    "import trident\n",
    "from trident import LightRay\n",
    "import illustris_python as il\n",
    "from astropy import units as u\n",
    "from astropy import constants as c\n",
    "from yt.utilities.cosmology import Cosmology\n",
    "from matplotlib import pyplot as plt\n"
   ]
  },
  {
   "cell_type": "markdown",
   "metadata": {},
   "source": [
    "# Choose snapshots and chunks and TNG100 version to plot for"
   ]
  },
  {
   "cell_type": "code",
   "execution_count": 2,
   "metadata": {},
   "outputs": [],
   "source": [
    "snapshots = [99,84,78,72,67,59,50,40,33,25,21,17]#,13,11,8,6,4,3,2]\n",
    "chunks = [0]#,1,2,3,4,5,6] #each TNG100-3 snapshot has chunks running from 0 to 6 inclusive\n",
    "TNGversion = 3 # 1=TNG100-1, 2=TNG100-2, 3=TNG100-3"
   ]
  },
  {
   "cell_type": "markdown",
   "metadata": {},
   "source": [
    "# Begin"
   ]
  },
  {
   "cell_type": "code",
   "execution_count": null,
   "metadata": {
    "scrolled": true
   },
   "outputs": [
    {
     "name": "stdout",
     "output_type": "stream",
     "text": [
      "processsing snapshot 99, chunk 0\n",
      "loading snapshot header\n",
      "header loaded.\n",
      "loading dataset: /virgo/simulations/IllustrisTNG/TNG100-3/output/snapdir_099/snap_099.0.hdf5\n"
     ]
    },
    {
     "name": "stderr",
     "output_type": "stream",
     "text": [
      "yt : [INFO     ] 2021-06-04 11:14:34,994 Calculating time from 1.000e+00 to be 4.356e+17 seconds\n",
      "yt : [INFO     ] 2021-06-04 11:14:35,083 Parameters: current_time              = 4.355810528213311e+17 s\n",
      "yt : [INFO     ] 2021-06-04 11:14:35,084 Parameters: domain_dimensions         = [1 1 1]\n",
      "yt : [INFO     ] 2021-06-04 11:14:35,084 Parameters: domain_left_edge          = [0. 0. 0.]\n",
      "yt : [INFO     ] 2021-06-04 11:14:35,085 Parameters: domain_right_edge         = [75000. 75000. 75000.]\n",
      "yt : [INFO     ] 2021-06-04 11:14:35,086 Parameters: cosmological_simulation   = 1\n",
      "yt : [INFO     ] 2021-06-04 11:14:35,086 Parameters: current_redshift          = 2.220446049250313e-16\n",
      "yt : [INFO     ] 2021-06-04 11:14:35,087 Parameters: omega_lambda              = 0.6911\n",
      "yt : [INFO     ] 2021-06-04 11:14:35,087 Parameters: omega_matter              = 0.3089\n",
      "yt : [INFO     ] 2021-06-04 11:14:35,088 Parameters: omega_radiation           = 0.0\n",
      "yt : [INFO     ] 2021-06-04 11:14:35,088 Parameters: hubble_constant           = 0.6774\n"
     ]
    },
    {
     "name": "stdout",
     "output_type": "stream",
     "text": [
      "data loaded.\n",
      "calculating proton mass:\n",
      "proton mass: 8.411856872862986e-58 Msun\n"
     ]
    },
    {
     "name": "stderr",
     "output_type": "stream",
     "text": [
      "yt : [INFO     ] 2021-06-04 11:14:38,827 Allocating for 3.738e+08 particles\n",
      "Initializing coarse index : 100%|█████████▉| 721/722 [01:50<00:00,  6.51it/s]\n",
      "Initializing refined index: 100%|█████████▉| 721/722 [23:53<00:01,  1.99s/it]\n"
     ]
    },
    {
     "name": "stdout",
     "output_type": "stream",
     "text": [
      "Calculating critical density of the Universe (z=0)\n",
      "grav=6.6743e-11 m**3/(kg*s**2)\n",
      "H0 = 71.0 km/(Mpc*s)\n",
      "critical density is: 9.468720094206941e-27 kg/m**3\n",
      "critical density in kg/m^3: 9.468720094206941e-27 kg/m**3\n",
      "Dark units are: [3.64386880e+04 1.07291103e+05 3.35609588e+04 ... 2.52006442e+00\n",
      " 3.73636839e-01 1.51274479e+01] dimensionless dimensionless /n [2.42855478e+06 1.47062045e+06 7.34779458e+05 ... 1.40593483e+00\n",
      " 1.44731804e+00 2.66315032e+00] dimensionless dimensionless\n",
      "filled baryon arrays\n",
      "processsing snapshot 84, chunk 0\n",
      "loading snapshot header\n",
      "header loaded.\n",
      "loading dataset: /virgo/simulations/IllustrisTNG/TNG100-3/output/snapdir_084/snap_084.0.hdf5\n"
     ]
    },
    {
     "name": "stderr",
     "output_type": "stream",
     "text": [
      "yt : [INFO     ] 2021-06-04 11:42:33,483 Calculating time from 8.352e-01 to be 3.573e+17 seconds\n",
      "yt : [INFO     ] 2021-06-04 11:42:33,563 Parameters: current_time              = 3.5730710036197434e+17 s\n",
      "yt : [INFO     ] 2021-06-04 11:42:33,563 Parameters: domain_dimensions         = [1 1 1]\n",
      "yt : [INFO     ] 2021-06-04 11:42:33,564 Parameters: domain_left_edge          = [0. 0. 0.]\n",
      "yt : [INFO     ] 2021-06-04 11:42:33,564 Parameters: domain_right_edge         = [75000. 75000. 75000.]\n",
      "yt : [INFO     ] 2021-06-04 11:42:33,565 Parameters: cosmological_simulation   = 1\n",
      "yt : [INFO     ] 2021-06-04 11:42:33,565 Parameters: current_redshift          = 0.19728418237600986\n",
      "yt : [INFO     ] 2021-06-04 11:42:33,566 Parameters: omega_lambda              = 0.6911\n",
      "yt : [INFO     ] 2021-06-04 11:42:33,566 Parameters: omega_matter              = 0.3089\n",
      "yt : [INFO     ] 2021-06-04 11:42:33,566 Parameters: omega_radiation           = 0.0\n",
      "yt : [INFO     ] 2021-06-04 11:42:33,567 Parameters: hubble_constant           = 0.6774\n"
     ]
    },
    {
     "name": "stdout",
     "output_type": "stream",
     "text": [
      "data loaded.\n",
      "calculating proton mass:\n",
      "proton mass: 8.411856872862986e-58 Msun\n"
     ]
    },
    {
     "name": "stderr",
     "output_type": "stream",
     "text": [
      "yt : [INFO     ] 2021-06-04 11:42:36,893 Allocating for 3.740e+08 particles\n",
      "Initializing coarse index : 100%|█████████▉| 721/722 [01:54<00:00,  6.30it/s]\n",
      "Initializing refined index: 100%|█████████▉| 721/722 [21:32<00:01,  1.79s/it]\n"
     ]
    },
    {
     "name": "stdout",
     "output_type": "stream",
     "text": [
      "Calculating critical density of the Universe (z=0)\n",
      "grav=6.6743e-11 m**3/(kg*s**2)\n",
      "H0 = 71.0 km/(Mpc*s)\n",
      "critical density is: 9.468720094206941e-27 kg/m**3\n",
      "critical density in kg/m^3: 9.468720094206941e-27 kg/m**3\n",
      "Dark units are: [2.20818484e+03 2.10315476e+03 4.25862243e+03 ... 5.91824080e+00\n",
      " 3.95191619e+00 3.25158295e+00] dimensionless dimensionless /n [3.10434676e+05 8.14384259e+05 2.26579356e+05 ... 3.00201707e+00\n",
      " 9.31137847e+00 9.26688729e+00] dimensionless dimensionless\n",
      "filled baryon arrays\n",
      "processsing snapshot 78, chunk 0\n",
      "loading snapshot header\n",
      "header loaded.\n",
      "loading dataset: /virgo/simulations/IllustrisTNG/TNG100-3/output/snapdir_078/snap_078.0.hdf5\n"
     ]
    },
    {
     "name": "stderr",
     "output_type": "stream",
     "text": [
      "yt : [INFO     ] 2021-06-04 12:08:14,100 Calculating time from 7.706e-01 to be 3.250e+17 seconds\n",
      "yt : [INFO     ] 2021-06-04 12:08:14,182 Parameters: current_time              = 3.249985189528167e+17 s\n",
      "yt : [INFO     ] 2021-06-04 12:08:14,183 Parameters: domain_dimensions         = [1 1 1]\n",
      "yt : [INFO     ] 2021-06-04 12:08:14,183 Parameters: domain_left_edge          = [0. 0. 0.]\n",
      "yt : [INFO     ] 2021-06-04 12:08:14,184 Parameters: domain_right_edge         = [75000. 75000. 75000.]\n",
      "yt : [INFO     ] 2021-06-04 12:08:14,184 Parameters: cosmological_simulation   = 1\n",
      "yt : [INFO     ] 2021-06-04 12:08:14,185 Parameters: current_redshift          = 0.2977176845174465\n",
      "yt : [INFO     ] 2021-06-04 12:08:14,185 Parameters: omega_lambda              = 0.6911\n",
      "yt : [INFO     ] 2021-06-04 12:08:14,186 Parameters: omega_matter              = 0.3089\n",
      "yt : [INFO     ] 2021-06-04 12:08:14,186 Parameters: omega_radiation           = 0.0\n",
      "yt : [INFO     ] 2021-06-04 12:08:14,186 Parameters: hubble_constant           = 0.6774\n"
     ]
    },
    {
     "name": "stdout",
     "output_type": "stream",
     "text": [
      "data loaded.\n",
      "calculating proton mass:\n",
      "proton mass: 8.411856872862986e-58 Msun\n"
     ]
    },
    {
     "name": "stderr",
     "output_type": "stream",
     "text": [
      "yt : [INFO     ] 2021-06-04 12:08:17,723 Allocating for 3.741e+08 particles\n",
      "Initializing coarse index : 100%|█████████▉| 721/722 [01:59<00:00,  6.06it/s]\n",
      "Initializing refined index: 100%|█████████▉| 721/722 [21:25<00:01,  1.78s/it]\n"
     ]
    },
    {
     "name": "stdout",
     "output_type": "stream",
     "text": [
      "Calculating critical density of the Universe (z=0)\n",
      "grav=6.6743e-11 m**3/(kg*s**2)\n",
      "H0 = 71.0 km/(Mpc*s)\n",
      "critical density is: 9.468720094206941e-27 kg/m**3\n",
      "critical density in kg/m^3: 9.468720094206941e-27 kg/m**3\n",
      "Dark units are: [3.53450358e+05 3.75013996e+05 1.46118385e+05 ... 1.08670386e+00\n",
      " 3.49707159e+00 4.09725045e+00] dimensionless dimensionless /n [1.11199675e+06 1.90868939e+06 1.56039369e+06 ... 2.31709002e+01\n",
      " 4.22831567e+01 3.32131918e+01] dimensionless dimensionless\n",
      "filled baryon arrays\n",
      "processsing snapshot 72, chunk 0\n",
      "loading snapshot header\n",
      "header loaded.\n",
      "loading dataset: /virgo/simulations/IllustrisTNG/TNG100-3/output/snapdir_072/snap_072.0.hdf5\n"
     ]
    },
    {
     "name": "stderr",
     "output_type": "stream",
     "text": [
      "yt : [INFO     ] 2021-06-04 12:33:48,446 Calculating time from 7.143e-01 to be 2.963e+17 seconds\n",
      "yt : [INFO     ] 2021-06-04 12:33:48,525 Parameters: current_time              = 2.962980875926263e+17 s\n",
      "yt : [INFO     ] 2021-06-04 12:33:48,525 Parameters: domain_dimensions         = [1 1 1]\n",
      "yt : [INFO     ] 2021-06-04 12:33:48,526 Parameters: domain_left_edge          = [0. 0. 0.]\n",
      "yt : [INFO     ] 2021-06-04 12:33:48,527 Parameters: domain_right_edge         = [75000. 75000. 75000.]\n",
      "yt : [INFO     ] 2021-06-04 12:33:48,527 Parameters: cosmological_simulation   = 1\n",
      "yt : [INFO     ] 2021-06-04 12:33:48,528 Parameters: current_redshift          = 0.3999269646135635\n",
      "yt : [INFO     ] 2021-06-04 12:33:48,528 Parameters: omega_lambda              = 0.6911\n",
      "yt : [INFO     ] 2021-06-04 12:33:48,528 Parameters: omega_matter              = 0.3089\n",
      "yt : [INFO     ] 2021-06-04 12:33:48,529 Parameters: omega_radiation           = 0.0\n",
      "yt : [INFO     ] 2021-06-04 12:33:48,529 Parameters: hubble_constant           = 0.6774\n"
     ]
    },
    {
     "name": "stdout",
     "output_type": "stream",
     "text": [
      "data loaded.\n",
      "calculating proton mass:\n",
      "proton mass: 8.411856872862986e-58 Msun\n"
     ]
    },
    {
     "name": "stderr",
     "output_type": "stream",
     "text": [
      "yt : [INFO     ] 2021-06-04 12:33:54,051 Allocating for 3.742e+08 particles\n",
      "Initializing coarse index : 100%|█████████▉| 720/721 [01:55<00:00,  6.23it/s]\n",
      "Initializing refined index: 100%|█████████▉| 720/721 [21:06<00:01,  1.76s/it]\n"
     ]
    },
    {
     "name": "stdout",
     "output_type": "stream",
     "text": [
      "Calculating critical density of the Universe (z=0)\n",
      "grav=6.6743e-11 m**3/(kg*s**2)\n",
      "H0 = 71.0 km/(Mpc*s)\n",
      "critical density is: 9.468720094206941e-27 kg/m**3\n",
      "critical density in kg/m^3: 9.468720094206941e-27 kg/m**3\n",
      "Dark units are: [6.74314155e+04 4.57608144e+04 9.69098609e+04 ... 8.36078885e+00\n",
      " 2.97167412e+00 2.17995139e+01] dimensionless dimensionless /n [1.60612898e+06 1.54198987e+06 1.68786633e+06 ... 7.29938935e+00\n",
      " 1.55493476e+01 3.18327321e+01] dimensionless dimensionless\n",
      "filled baryon arrays\n",
      "processsing snapshot 67, chunk 0\n",
      "loading snapshot header\n",
      "header loaded.\n",
      "loading dataset: /virgo/simulations/IllustrisTNG/TNG100-3/output/snapdir_067/snap_067.0.hdf5\n"
     ]
    },
    {
     "name": "stderr",
     "output_type": "stream",
     "text": [
      "yt : [INFO     ] 2021-06-04 12:59:10,142 Calculating time from 6.653e-01 to be 2.710e+17 seconds\n",
      "yt : [INFO     ] 2021-06-04 12:59:10,218 Parameters: current_time              = 2.7097180874458618e+17 s\n",
      "yt : [INFO     ] 2021-06-04 12:59:10,218 Parameters: domain_dimensions         = [1 1 1]\n",
      "yt : [INFO     ] 2021-06-04 12:59:10,219 Parameters: domain_left_edge          = [0. 0. 0.]\n",
      "yt : [INFO     ] 2021-06-04 12:59:10,219 Parameters: domain_right_edge         = [75000. 75000. 75000.]\n",
      "yt : [INFO     ] 2021-06-04 12:59:10,220 Parameters: cosmological_simulation   = 1\n",
      "yt : [INFO     ] 2021-06-04 12:59:10,220 Parameters: current_redshift          = 0.5030475232448832\n",
      "yt : [INFO     ] 2021-06-04 12:59:10,221 Parameters: omega_lambda              = 0.6911\n",
      "yt : [INFO     ] 2021-06-04 12:59:10,221 Parameters: omega_matter              = 0.3089\n",
      "yt : [INFO     ] 2021-06-04 12:59:10,221 Parameters: omega_radiation           = 0.0\n",
      "yt : [INFO     ] 2021-06-04 12:59:10,222 Parameters: hubble_constant           = 0.6774\n"
     ]
    },
    {
     "name": "stdout",
     "output_type": "stream",
     "text": [
      "data loaded.\n",
      "calculating proton mass:\n",
      "proton mass: 8.411856872862986e-58 Msun\n"
     ]
    },
    {
     "name": "stderr",
     "output_type": "stream",
     "text": [
      "yt : [INFO     ] 2021-06-04 12:59:15,595 Allocating for 3.743e+08 particles\n",
      "Initializing coarse index : 100%|█████████▉| 722/723 [01:54<00:00,  6.33it/s]\n",
      "Initializing refined index:  59%|█████▊    | 424/723 [09:14<10:29,  2.11s/it]  "
     ]
    }
   ],
   "source": [
    "######################################\n",
    "#initialise arrays that hold all data#\n",
    "######################################\n",
    "\n",
    "#redshift array\n",
    "allsnaps_redshifts=[]\n",
    "\n",
    "#baryon arrays\n",
    "#PartType0 (gas)\n",
    "allsnaps_tot_PT0_arr = []\n",
    "allsnaps_hal_PT0_arr = []\n",
    "allsnaps_fil_PT0_arr = []\n",
    "allsnaps_voi_PT0_arr = []\n",
    "#PartType4 (stars)\n",
    "allsnaps_tot_PT4_arr = []\n",
    "allsnaps_hal_PT4_arr = []\n",
    "allsnaps_fil_PT4_arr = []\n",
    "allsnaps_voi_PT4_arr = []\n",
    "\n",
    "#check arrays\n",
    "allsnaps_dens_crit_array = []\n",
    "allsnaps_m_p_array = []\n",
    "#norm_factor = []\n",
    "\n",
    "################################\n",
    "#loop over snapshots and chunks#\n",
    "################################\n",
    "\n",
    "for i in range(len(snapshots)):\n",
    "    \n",
    "    ######################################################\n",
    "    #initialise arrays that hold individual snapshot data#\n",
    "    ######################################################\n",
    "\n",
    "    #redshift array\n",
    "    redshifts=[]\n",
    "\n",
    "    #baryon arrays\n",
    "    #PartType0 (gas)\n",
    "    tot_PT0_arr = []\n",
    "    hal_PT0_arr = []\n",
    "    fil_PT0_arr = []\n",
    "    voi_PT0_arr = []\n",
    "    #PartType4 (stars)\n",
    "    tot_PT4_arr = []\n",
    "    hal_PT4_arr = []\n",
    "    fil_PT4_arr = []\n",
    "    voi_PT4_arr = []\n",
    "\n",
    "    #check arrays\n",
    "    dens_crit_array = []\n",
    "    m_p_array = []\n",
    "    \n",
    "    for j in range(len(chunks)):\n",
    "    \n",
    "        ###########################\n",
    "        #select snapshot and chunk#\n",
    "        ###########################\n",
    "\n",
    "        snapshot = snapshots[i]\n",
    "        chunk = chunks[j]\n",
    "        print('processsing snapshot {0:02d}, chunk {1}'.format(snapshot,chunk))\n",
    "\n",
    "        ######################\n",
    "        #load snapshot header#\n",
    "        ######################\n",
    "\n",
    "        print('loading snapshot header')\n",
    "        basepath = '/virgo/simulations/IllustrisTNG/TNG100-{0}/output/'.format(TNGversion)\n",
    "        header=il.groupcat.loadHeader(basepath,snapshot)\n",
    "        print('header loaded.')\n",
    "\n",
    "        ########################################################\n",
    "        #extract redshift from header, append to redshift array#\n",
    "        ########################################################\n",
    "\n",
    "        redshifts.append(header['Redshift'])\n",
    "\n",
    "        #####################\n",
    "        #load Illustris data#\n",
    "        #####################\n",
    "\n",
    "        data='/virgo/simulations/IllustrisTNG/TNG100-{2}/output/snapdir_0{0:02d}/snap_0{0:02d}.{1}.hdf5'.format(snapshot,chunk,TNGversion)\n",
    "        print('loading dataset: {0}'.format(data))\n",
    "        ds=yt.load(data)\n",
    "        print('data loaded.')\n",
    "\n",
    "        ####################################\n",
    "        #define proton mass in solar masses#\n",
    "        ####################################\n",
    "\n",
    "        print('calculating proton mass:')\n",
    "        m_p = ds.quan((c.m_p).to(u.solMass).value,'Msun')\n",
    "        print ('proton mass: {0}'.format(m_p))\n",
    "        m_p_array.append(m_p)\n",
    "\n",
    "        ds.index\n",
    "\n",
    "        ############################################\n",
    "        #calculate critical density of the Universe#\n",
    "        ############################################\n",
    "\n",
    "        print('Calculating critical density of the Universe (z=0)')\n",
    "        co=Cosmology()\n",
    "        grav=ds.quan(6.6743e-11,'m**3/(kg*s**2)')\n",
    "        H=co.hubble_parameter(0).in_units('km/s/Mpc')\n",
    "        print('grav={0}'.format(grav))\n",
    "        print('H0 = {0}'.format(H))\n",
    "        dens_crit = ((3 * H**2)/(8*np.pi* grav))#.in_units('h**2/(code_length**3/(Msun*s**2))')\n",
    "        print ('critical density is: {0}'.format(dens_crit))\n",
    "        print('critical density in kg/m^3: {0}'.format(dens_crit.in_units('kg/m**3')))\n",
    "        dens_crit_array.append(dens_crit)\n",
    "        \n",
    "        #print('Calculating critical density of the Universe (z={0})'.format(header['Redshift']))\n",
    "        #dens_crit_current = ((3 * (co.hubble_parameter(header['Redshift'])**2))/(8*np.pi*grav))\n",
    "        #print('Current critical density is {0}'.format(dens_crit_current))\n",
    "        #print('...in kg/m^3: {0}'.format(dens_crit_current.in_units('kg/m**3')))\n",
    "\n",
    "        ad = ds.all_data()\n",
    "\n",
    "        ##########################################################\n",
    "        #convert dark matter density to units of critical density#\n",
    "        ##########################################################\n",
    "\n",
    "        #PartType0 (gas)\n",
    "        dark_units_PT0 = ad['PartType0','SubfindDMDensity']*ds.quan(1e10,\"(Msun/h)/((code_length)**3)\")/dens_crit\n",
    "        #PartType4 (stars)\n",
    "        dark_units_PT4 = ad['PartType4','SubfindDMDensity']*ds.quan(1e10,\"(Msun/h)/((code_length)**3)\")/dens_crit\n",
    "        print('Dark units are: {0} /n {1}'.format(dark_units_PT0,dark_units_PT4))\n",
    "\n",
    "        ###############################################################\n",
    "        #create Large-Scale Structure (LSS) masks for each matter type#\n",
    "        ###############################################################\n",
    "\n",
    "        #PartType0 (gas)\n",
    "        voi_mask_PT0 = dark_units_PT0 < 0.1\n",
    "        fil_mask_PT0 = np.logical_and(dark_units_PT0 >= 0.1, dark_units_PT0 < 57)\n",
    "        hal_mask_PT0 = dark_units_PT0 >= 57 \n",
    "        #PartType4 (stars)\n",
    "        voi_mask_PT4 = dark_units_PT4 < 0.1\n",
    "        fil_mask_PT4 = np.logical_and(dark_units_PT4 >= 0.1, dark_units_PT4 < 57)\n",
    "        hal_mask_PT4 = dark_units_PT4 >= 57\n",
    "\n",
    "        ##########################################################\n",
    "        #calculate mass in each LSS for each baryonic matter type#\n",
    "        ##########################################################\n",
    "\n",
    "        #PartType0 (gas)\n",
    "        tot_PT0 = np.sum(ad['PartType0','Masses'])\n",
    "        hal_PT0 = np.sum(ad['PartType0','Masses'][hal_mask_PT0])\n",
    "        fil_PT0 = np.sum(ad['PartType0','Masses'][fil_mask_PT0])\n",
    "        voi_PT0 = np.sum(ad['PartType0','Masses'][voi_mask_PT0])\n",
    "        #PartType4 (stars)\n",
    "        tot_PT4 = np.sum(ad['PartType4','Masses'])\n",
    "        hal_PT4 = np.sum(ad['PartType4','Masses'][hal_mask_PT4])\n",
    "        fil_PT4 = np.sum(ad['PartType4','Masses'][fil_mask_PT4])\n",
    "        voi_PT4 = np.sum(ad['PartType4','Masses'][voi_mask_PT4])\n",
    "\n",
    "        ##########################\n",
    "        #append results to arrays#\n",
    "        ##########################\n",
    "\n",
    "        #PartType0 (gas)\n",
    "        tot_PT0_arr.append(tot_PT0)\n",
    "        hal_PT0_arr.append(hal_PT0)\n",
    "        fil_PT0_arr.append(fil_PT0) \n",
    "        voi_PT0_arr.append(voi_PT0) \n",
    "        #PartType4 (gas)\n",
    "        tot_PT4_arr.append(tot_PT4)\n",
    "        hal_PT4_arr.append(hal_PT4)\n",
    "        fil_PT4_arr.append(fil_PT4) \n",
    "        voi_PT4_arr.append(voi_PT4)\n",
    "        \n",
    "    ######################################################    \n",
    "    #append all results for a snapshot to the final array#\n",
    "    ######################################################\n",
    "    \n",
    "    #PartType0 (gas)\n",
    "    allsnaps_tot_PT0_arr.append(tot_PT0_arr)\n",
    "    allsnaps_hal_PT0_arr.append(hal_PT0_arr)\n",
    "    allsnaps_fil_PT0_arr.append(fil_PT0_arr) \n",
    "    allsnaps_voi_PT0_arr.append(voi_PT0_arr) \n",
    "    #PartType4 (gas)\n",
    "    allsnaps_tot_PT4_arr.append(tot_PT4_arr)\n",
    "    allsnaps_hal_PT4_arr.append(hal_PT4_arr)\n",
    "    allsnaps_fil_PT4_arr.append(fil_PT4_arr) \n",
    "    allsnaps_voi_PT4_arr.append(voi_PT4_arr)    \n",
    "    \n",
    "    allsnaps_m_p_array.append(m_p_array)\n",
    "    allsnaps_dens_crit_array.append(dens_crit_array)\n",
    "    allsnaps_redshifts.append(redshifts)\n",
    "\n",
    "    \n",
    "    print('filled baryon arrays')\n",
    "    \n",
    "    \n",
    "    \n",
    "    "
   ]
  },
  {
   "cell_type": "code",
   "execution_count": 4,
   "metadata": {},
   "outputs": [
    {
     "name": "stdout",
     "output_type": "stream",
     "text": [
      "(93761227,)\n",
      "data:  0.0018543717451393604 dimensionless\n",
      "given units:  18543717.451393604 Msun/(code_length**3*h)\n",
      "given units, div by 1e10:  0.0018543717451393604 Msun/(code_length**3*h)\n",
      "given units, div by dens_crit:  13110574.695855226 dimensionless\n",
      "in code this is:  13110574.695855226 dimensionless\n",
      "9.468720094206941e-27 kg/m**3\n"
     ]
    }
   ],
   "source": [
    "print(dark_units_PT0.shape)\n",
    "print('data: ',ad['PartType0','SubfindDMDensity'][0])\n",
    "print('given units: ',(ad['PartType0','SubfindDMDensity']*ds.quan(1e10,\"(Msun/h)/((code_length)**3)\"))[0])\n",
    "print('given units, div by 1e10: ',(ad['PartType0','SubfindDMDensity']*ds.quan(1e10,\"(Msun/h)/((code_length)**3)\")/1e10)[0])\n",
    "print('given units, div by dens_crit: ',(ad['PartType0','SubfindDMDensity']*ds.quan(1e10,\"(Msun/h)/((code_length)**3)\")/dens_crit)[0])\n",
    "print('in code this is: ',dark_units_PT0[0])\n",
    "print(dens_crit)"
   ]
  },
  {
   "cell_type": "code",
   "execution_count": 5,
   "metadata": {},
   "outputs": [],
   "source": [
    "#########################\n",
    "#convert to numpy arrays#\n",
    "#########################\n",
    "\n",
    "#tot_PT0_arr=np.array(tot_PT0_arr)\n",
    "#hal_PT0_arr=np.array(hal_PT0_arr)\n",
    "#fil_PT0_arr=np.array(fil_PT0_arr)\n",
    "#voi_PT0_arr=np.array(voi_PT0_arr)\n",
    "\n",
    "#tot_PT4_arr=np.array(tot_PT4_arr)\n",
    "#hal_PT4_arr=np.array(hal_PT4_arr)\n",
    "#fil_PT4_arr=np.array(fil_PT4_arr)\n",
    "#voi_PT4_arr=np.array(voi_PT4_arr)\n",
    "\n",
    "allsnaps_tot_PT0_arr = np.array(allsnaps_tot_PT0_arr)\n",
    "allsnaps_hal_PT0_arr = np.array(allsnaps_hal_PT0_arr)\n",
    "allsnaps_fil_PT0_arr = np.array(allsnaps_fil_PT0_arr)\n",
    "allsnaps_voi_PT0_arr = np.array(allsnaps_voi_PT0_arr)\n",
    "\n",
    "allsnaps_tot_PT4_arr = np.array(allsnaps_tot_PT4_arr)\n",
    "allsnaps_hal_PT4_arr = np.array(allsnaps_hal_PT4_arr)\n",
    "allsnaps_fil_PT4_arr = np.array(allsnaps_fil_PT4_arr)\n",
    "allsnaps_voi_PT4_arr = np.array(allsnaps_voi_PT4_arr)\n",
    "\n",
    "allsnaps_redshifts = np.array(allsnaps_redshifts)\n",
    "allsnaps_m_p_array = np.array(allsnaps_m_p_array)\n",
    "allsnaps_dens_crit_array = np.array(allsnaps_dens_crit_array)"
   ]
  },
  {
   "cell_type": "code",
   "execution_count": 6,
   "metadata": {},
   "outputs": [
    {
     "name": "stdout",
     "output_type": "stream",
     "text": [
      "12\n",
      "(12, 1)\n",
      "(12, 1)\n",
      "(12, 1)\n",
      "(12, 1)\n",
      "(12, 1)\n",
      "(12, 1)\n",
      "(12, 1)\n",
      "(12, 1)\n",
      "(12, 1)\n",
      "[[558314.07068934]\n",
      " [558667.15778269]\n",
      " [558873.24430414]\n",
      " [559122.99405622]\n",
      " [559385.39283825]\n",
      " [559966.85354467]\n",
      " [560929.0659048 ]\n",
      " [562642.98274816]\n",
      " [564216.18486777]\n",
      " [566472.74230883]\n",
      " [567724.72610925]\n",
      " [568378.19460287]]\n"
     ]
    }
   ],
   "source": [
    "###############\n",
    "#check lengths#\n",
    "###############\n",
    "\n",
    "print(len(snapshots))\n",
    "print(allsnaps_redshifts.shape)\n",
    "print(allsnaps_m_p_array.shape)\n",
    "print(allsnaps_dens_crit_array.shape)\n",
    "print(allsnaps_hal_PT0_arr.shape)\n",
    "print(allsnaps_fil_PT0_arr.shape)\n",
    "print(allsnaps_voi_PT0_arr.shape)\n",
    "print(allsnaps_hal_PT4_arr.shape)\n",
    "print(allsnaps_fil_PT4_arr.shape)\n",
    "print(allsnaps_voi_PT4_arr.shape)\n",
    "\n",
    "\n",
    "print(allsnaps_tot_PT0_arr) #summing chunks for each snapshot\n",
    "#print(allsnaps_redshifts.mean(axis=1)) #recovering the redshift for each snapshot"
   ]
  },
  {
   "cell_type": "code",
   "execution_count": 7,
   "metadata": {},
   "outputs": [
    {
     "name": "stdout",
     "output_type": "stream",
     "text": [
      "(12,)\n"
     ]
    }
   ],
   "source": [
    "##################################################\n",
    "#for each of the 13 snapshots, sum the masses in #\n",
    "#each of the 7 simulation subchunks to obtain    #\n",
    "#the total mass for the entire redshift          #\n",
    "##################################################\n",
    "\n",
    "tot_PT0_arr_summed = allsnaps_tot_PT0_arr.sum(axis=1)\n",
    "hal_PT0_arr_summed = allsnaps_hal_PT0_arr.sum(axis=1)\n",
    "fil_PT0_arr_summed = allsnaps_fil_PT0_arr.sum(axis=1)\n",
    "voi_PT0_arr_summed = allsnaps_voi_PT0_arr.sum(axis=1)\n",
    "\n",
    "tot_PT4_arr_summed = allsnaps_tot_PT4_arr.sum(axis=1)\n",
    "hal_PT4_arr_summed = allsnaps_hal_PT4_arr.sum(axis=1)\n",
    "fil_PT4_arr_summed = allsnaps_fil_PT4_arr.sum(axis=1)\n",
    "voi_PT4_arr_summed = allsnaps_voi_PT4_arr.sum(axis=1)\n",
    "\n",
    "print(allsnaps_hal_PT0_arr.sum(axis=1).shape)"
   ]
  },
  {
   "cell_type": "code",
   "execution_count": 8,
   "metadata": {},
   "outputs": [
    {
     "name": "stdout",
     "output_type": "stream",
     "text": [
      "(12,)\n"
     ]
    }
   ],
   "source": [
    "####################################################\n",
    "#for each of the 13 snapshots, sum the masses in   #\n",
    "#PT0 and PT4 to obtain the total baryonic mass for #\n",
    "#each redshift                                     #\n",
    "####################################################\n",
    "\n",
    "tot_PT14_arr_summed = tot_PT0_arr_summed + tot_PT4_arr_summed\n",
    "hal_PT14_arr_summed = hal_PT0_arr_summed + hal_PT4_arr_summed\n",
    "fil_PT14_arr_summed = fil_PT0_arr_summed + fil_PT4_arr_summed\n",
    "voi_PT14_arr_summed = voi_PT0_arr_summed + voi_PT4_arr_summed\n",
    "\n",
    "print(hal_PT14_arr_summed.shape)"
   ]
  },
  {
   "cell_type": "code",
   "execution_count": 9,
   "metadata": {},
   "outputs": [
    {
     "name": "stdout",
     "output_type": "stream",
     "text": [
      "(12,)\n"
     ]
    }
   ],
   "source": [
    "#######################\n",
    "#create mass fractions#\n",
    "#######################\n",
    "\n",
    "#hal_frac = (hal_PT0_arr + hal_PT4_arr)/(hal_PT0_arr + hal_PT4_arr + fil_PT0_arr + fil_PT4_arr + voi_PT0_arr + voi_PT4_arr)\n",
    "#fil_frac = (fil_PT0_arr + fil_PT4_arr)/(hal_PT0_arr + hal_PT4_arr + fil_PT0_arr + fil_PT4_arr + voi_PT0_arr + voi_PT4_arr)\n",
    "#voi_frac = (voi_PT0_arr + voi_PT4_arr)/(hal_PT0_arr + hal_PT4_arr + fil_PT0_arr + fil_PT4_arr + voi_PT0_arr + voi_PT4_arr)\n",
    "\n",
    "\n",
    "#hal_frac = (hal_PT14_arr_summed)/(hal_PT14_arr_summed + fil_PT14_arr_summed + voi_PT14_arr_summed)\n",
    "#fil_frac = (fil_PT14_arr_summed)/(hal_PT14_arr_summed + fil_PT14_arr_summed + voi_PT14_arr_summed)\n",
    "#voi_frac = (voi_PT14_arr_summed)/(hal_PT14_arr_summed + fil_PT14_arr_summed + voi_PT14_arr_summed)\n",
    "\n",
    "hal_frac = (hal_PT14_arr_summed)/(tot_PT14_arr_summed)\n",
    "fil_frac = (fil_PT14_arr_summed)/(tot_PT14_arr_summed)\n",
    "voi_frac = (voi_PT14_arr_summed)/(tot_PT14_arr_summed)\n",
    "\n",
    "print(hal_frac.shape)"
   ]
  },
  {
   "cell_type": "code",
   "execution_count": 10,
   "metadata": {},
   "outputs": [
    {
     "data": {
      "image/png": "[encoded data removed]",
      "text/plain": [
       "<Figure size 864x648 with 1 Axes>"
      ]
     },
     "metadata": {
      "needs_background": "light"
     },
     "output_type": "display_data"
    }
   ],
   "source": [
    "#####################\n",
    "#plot mass fractions#\n",
    "#####################\n",
    "\n",
    "fig=plt.figure(figsize=(12,9))\n",
    "\n",
    "ax1=fig.add_subplot(111)\n",
    "ax1.set_xlabel('z',fontsize=15)\n",
    "ax1.set_ylabel('mf',fontsize=15)\n",
    "ax1.set_yscale('log')\n",
    "#ax1.set_ylim([1e-2,1e0])\n",
    "ax1.plot((allsnaps_redshifts.mean(axis=1))[0:10],hal_frac[0:10],label='halo',color='red')\n",
    "ax1.plot((allsnaps_redshifts.mean(axis=1))[0:10],fil_frac[0:10],label='filament',color='blue')\n",
    "ax1.plot((allsnaps_redshifts.mean(axis=1))[0:10],voi_frac[0:10],label='void',color='green')\n",
    "\n",
    "\n",
    "plt.legend(fontsize=15)\n",
    "plt.savefig('evolving_mass_fraction_TNG100-{0}.png'.format(TNGversion))\n",
    "plt.show()"
   ]
  },
  {
   "cell_type": "code",
   "execution_count": 11,
   "metadata": {},
   "outputs": [
    {
     "name": "stdout",
     "output_type": "stream",
     "text": [
      "[[9.46872009e-27]\n",
      " [9.46872009e-27]\n",
      " [9.46872009e-27]\n",
      " [9.46872009e-27]\n",
      " [9.46872009e-27]\n",
      " [9.46872009e-27]\n",
      " [9.46872009e-27]\n",
      " [9.46872009e-27]\n",
      " [9.46872009e-27]\n",
      " [9.46872009e-27]\n",
      " [9.46872009e-27]\n",
      " [9.46872009e-27]]\n"
     ]
    }
   ],
   "source": [
    "print(allsnaps_dens_crit_array)"
   ]
  },
  {
   "cell_type": "code",
   "execution_count": 12,
   "metadata": {},
   "outputs": [
    {
     "name": "stdout",
     "output_type": "stream",
     "text": [
      "[2.22044605e-16 1.97284182e-01 2.97717685e-01 3.99926965e-01\n",
      " 5.03047523e-01 7.00106354e-01 9.97294226e-01 1.49551217e+00\n",
      " 2.00202814e+00 3.00813107e+00] [0.68208459 0.7162586  0.72973101 0.74204735 0.75164974 0.75587357\n",
      " 0.73872083 0.70912099 0.68766876 0.65892381] [0.18156292 0.19442409 0.20287435 0.21151322 0.22007209 0.23737976\n",
      " 0.26116624 0.29087896 0.31233124 0.34107619] [1.36352498e-01 8.93173076e-02 6.73946434e-02 4.64394249e-02\n",
      " 2.82781727e-02 6.74666936e-03 1.12934024e-04 5.36032625e-08\n",
      " 0.00000000e+00 0.00000000e+00]\n",
      "[1. 1. 1. 1. 1. 1. 1. 1. 1. 1. 1. 1.]\n"
     ]
    }
   ],
   "source": [
    "print((allsnaps_redshifts.mean(axis=1))[0:10],fil_frac[0:10],hal_frac[0:10],voi_frac[0:10])\n",
    "\n",
    "print(fil_frac+hal_frac+voi_frac)\n"
   ]
  },
  {
   "cell_type": "code",
   "execution_count": null,
   "metadata": {},
   "outputs": [],
   "source": []
  }
 ],
 "metadata": {
  "kernelspec": {
   "display_name": "Python 3",
   "language": "python",
   "name": "python3"
  },
  "language_info": {
   "codemirror_mode": {
    "name": "ipython",
    "version": 3
   },
   "file_extension": ".py",
   "mimetype": "text/x-python",
   "name": "python",
   "nbconvert_exporter": "python",
   "pygments_lexer": "ipython3",
   "version": "3.7.6"
  }
 },
 "nbformat": 4,
 "nbformat_minor": 4
}
