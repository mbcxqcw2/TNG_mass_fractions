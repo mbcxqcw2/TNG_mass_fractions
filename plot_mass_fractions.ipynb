{
 "cells": [
  {
   "cell_type": "markdown",
   "metadata": {},
   "source": [
    "# Notes"
   ]
  },
  {
   "cell_type": "markdown",
   "metadata": {},
   "source": [
    "This notebook attempts to plot the baryonic mass fraction of halos, filaments and voids in the IllustrisTNG simulation in the style of Figure 2 from Martizzi+19 (https://arxiv.org/abs/1810.01883) and Figure A.1 from Artale+21 (https://arxiv.org/abs/2102.01092)\n",
    "\n",
    "Code is adapted from Plot_evolving_density_structures.ipynb"
   ]
  },
  {
   "cell_type": "markdown",
   "metadata": {},
   "source": [
    "# Imports"
   ]
  },
  {
   "cell_type": "code",
   "execution_count": null,
   "metadata": {},
   "outputs": [],
   "source": [
    "import numpy as np\n",
    "from matplotlib import pyplot as plt\n",
    "import yt\n",
    "import trident\n",
    "from trident import LightRay\n",
    "import illustris_python as il\n",
    "from astropy import units as u\n",
    "from astropy import constants as c\n",
    "from yt.utilities.cosmology import Cosmology\n",
    "from matplotlib import pyplot as plt\n"
   ]
  },
  {
   "cell_type": "markdown",
   "metadata": {},
   "source": [
    "# Choose snapshots and chunks and TNG100 version to plot for"
   ]
  },
  {
   "cell_type": "code",
   "execution_count": 2,
   "metadata": {},
   "outputs": [],
   "source": [
    "snapshots = [99,84,78,72,67,59,50,40,33,25,21,17]#,13,11,8,6,4,3,2]\n",
    "chunks = [0]#,1,2,3,4,5,6] #each TNG100-3 snapshot has chunks running from 0 to 6 inclusive\n",
    "TNGversion = 2 # 1=TNG100-1, 2=TNG100-2, 3=TNG100-3"
   ]
  },
  {
   "cell_type": "markdown",
   "metadata": {},
   "source": [
    "# Begin"
   ]
  },
  {
   "cell_type": "code",
   "execution_count": null,
   "metadata": {
    "scrolled": true
   },
   "outputs": [
    {
     "name": "stdout",
     "output_type": "stream",
     "text": [
      "processsing snapshot 99, chunk 0\n",
      "loading snapshot header\n",
      "header loaded.\n",
      "loading dataset: /virgo/simulations/IllustrisTNG/TNG100-2/output/snapdir_099/snap_099.0.hdf5\n"
     ]
    },
    {
     "name": "stderr",
     "output_type": "stream",
     "text": [
      "yt : [INFO     ] 2021-06-04 16:51:37,300 Calculating time from 1.000e+00 to be 4.356e+17 seconds\n",
      "yt : [INFO     ] 2021-06-04 16:51:37,397 Parameters: current_time              = 4.355810528213311e+17 s\n",
      "yt : [INFO     ] 2021-06-04 16:51:37,397 Parameters: domain_dimensions         = [1 1 1]\n",
      "yt : [INFO     ] 2021-06-04 16:51:37,398 Parameters: domain_left_edge          = [0. 0. 0.]\n",
      "yt : [INFO     ] 2021-06-04 16:51:37,399 Parameters: domain_right_edge         = [75000. 75000. 75000.]\n",
      "yt : [INFO     ] 2021-06-04 16:51:37,399 Parameters: cosmological_simulation   = 1\n",
      "yt : [INFO     ] 2021-06-04 16:51:37,400 Parameters: current_redshift          = 2.220446049250313e-16\n",
      "yt : [INFO     ] 2021-06-04 16:51:37,401 Parameters: omega_lambda              = 0.6911\n",
      "yt : [INFO     ] 2021-06-04 16:51:37,401 Parameters: omega_matter              = 0.3089\n",
      "yt : [INFO     ] 2021-06-04 16:51:37,402 Parameters: omega_radiation           = 0.0\n",
      "yt : [INFO     ] 2021-06-04 16:51:37,403 Parameters: hubble_constant           = 0.6774\n"
     ]
    },
    {
     "name": "stdout",
     "output_type": "stream",
     "text": [
      "data loaded.\n",
      "calculating proton mass:\n",
      "proton mass: 8.411856872862986e-58 Msun\n"
     ]
    },
    {
     "name": "stderr",
     "output_type": "stream",
     "text": [
      "yt : [INFO     ] 2021-06-04 16:52:20,647 Allocating for 2.993e+09 particles\n",
      "Initializing coarse index : 100%|█████████▉| 5777/5778 [14:10<00:00,  6.79it/s]\n",
      "Initializing refined index:  50%|█████     | 2900/5778 [44:05<1:55:21,  2.41s/it]"
     ]
    }
   ],
   "source": [
    "######################################\n",
    "#initialise arrays that hold all data#\n",
    "######################################\n",
    "\n",
    "#redshift array\n",
    "allsnaps_redshifts=[]\n",
    "\n",
    "#baryon arrays\n",
    "#PartType0 (gas)\n",
    "allsnaps_tot_PT0_arr = []\n",
    "allsnaps_hal_PT0_arr = []\n",
    "allsnaps_fil_PT0_arr = []\n",
    "allsnaps_voi_PT0_arr = []\n",
    "#PartType4 (stars)\n",
    "allsnaps_tot_PT4_arr = []\n",
    "allsnaps_hal_PT4_arr = []\n",
    "allsnaps_fil_PT4_arr = []\n",
    "allsnaps_voi_PT4_arr = []\n",
    "\n",
    "#check arrays\n",
    "allsnaps_dens_crit_array = []\n",
    "allsnaps_m_p_array = []\n",
    "#norm_factor = []\n",
    "\n",
    "################################\n",
    "#loop over snapshots and chunks#\n",
    "################################\n",
    "\n",
    "for i in range(len(snapshots)):\n",
    "    \n",
    "    ######################################################\n",
    "    #initialise arrays that hold individual snapshot data#\n",
    "    ######################################################\n",
    "\n",
    "    #redshift array\n",
    "    redshifts=[]\n",
    "\n",
    "    #baryon arrays\n",
    "    #PartType0 (gas)\n",
    "    tot_PT0_arr = []\n",
    "    hal_PT0_arr = []\n",
    "    fil_PT0_arr = []\n",
    "    voi_PT0_arr = []\n",
    "    #PartType4 (stars)\n",
    "    tot_PT4_arr = []\n",
    "    hal_PT4_arr = []\n",
    "    fil_PT4_arr = []\n",
    "    voi_PT4_arr = []\n",
    "\n",
    "    #check arrays\n",
    "    dens_crit_array = []\n",
    "    m_p_array = []\n",
    "    \n",
    "    for j in range(len(chunks)):\n",
    "    \n",
    "        ###########################\n",
    "        #select snapshot and chunk#\n",
    "        ###########################\n",
    "\n",
    "        snapshot = snapshots[i]\n",
    "        chunk = chunks[j]\n",
    "        print('processsing snapshot {0:02d}, chunk {1}'.format(snapshot,chunk))\n",
    "\n",
    "        ######################\n",
    "        #load snapshot header#\n",
    "        ######################\n",
    "\n",
    "        print('loading snapshot header')\n",
    "        basepath = '/virgo/simulations/IllustrisTNG/TNG100-{0}/output/'.format(TNGversion)\n",
    "        header=il.groupcat.loadHeader(basepath,snapshot)\n",
    "        print('header loaded.')\n",
    "\n",
    "        ########################################################\n",
    "        #extract redshift from header, append to redshift array#\n",
    "        ########################################################\n",
    "\n",
    "        redshifts.append(header['Redshift'])\n",
    "\n",
    "        #####################\n",
    "        #load Illustris data#\n",
    "        #####################\n",
    "\n",
    "        data='/virgo/simulations/IllustrisTNG/TNG100-{2}/output/snapdir_0{0:02d}/snap_0{0:02d}.{1}.hdf5'.format(snapshot,chunk,TNGversion)\n",
    "        print('loading dataset: {0}'.format(data))\n",
    "        ds=yt.load(data)\n",
    "        print('data loaded.')\n",
    "\n",
    "        ####################################\n",
    "        #define proton mass in solar masses#\n",
    "        ####################################\n",
    "\n",
    "        print('calculating proton mass:')\n",
    "        m_p = ds.quan((c.m_p).to(u.solMass).value,'Msun')\n",
    "        print ('proton mass: {0}'.format(m_p))\n",
    "        m_p_array.append(m_p)\n",
    "\n",
    "        ds.index\n",
    "\n",
    "        ############################################\n",
    "        #calculate critical density of the Universe#\n",
    "        ############################################\n",
    "\n",
    "        print('Calculating critical density of the Universe (z=0)')\n",
    "        co=Cosmology()\n",
    "        grav=ds.quan(6.6743e-11,'m**3/(kg*s**2)')\n",
    "        H=co.hubble_parameter(0).in_units('km/s/Mpc')\n",
    "        print('grav={0}'.format(grav))\n",
    "        print('H0 = {0}'.format(H))\n",
    "        dens_crit = ((3 * H**2)/(8*np.pi* grav))#.in_units('h**2/(code_length**3/(Msun*s**2))')\n",
    "        print ('critical density is: {0}'.format(dens_crit))\n",
    "        print('critical density in kg/m^3: {0}'.format(dens_crit.in_units('kg/m**3')))\n",
    "        dens_crit_array.append(dens_crit)\n",
    "        \n",
    "        #print('Calculating critical density of the Universe (z={0})'.format(header['Redshift']))\n",
    "        #dens_crit_current = ((3 * (co.hubble_parameter(header['Redshift'])**2))/(8*np.pi*grav))\n",
    "        #print('Current critical density is {0}'.format(dens_crit_current))\n",
    "        #print('...in kg/m^3: {0}'.format(dens_crit_current.in_units('kg/m**3')))\n",
    "\n",
    "        ad = ds.all_data()\n",
    "\n",
    "        ##########################################################\n",
    "        #convert dark matter density to units of critical density#\n",
    "        ##########################################################\n",
    "\n",
    "        #PartType0 (gas)\n",
    "        dark_units_PT0 = ad['PartType0','SubfindDMDensity']*ds.quan(1e10,\"(Msun/h)/((code_length)**3)\")/dens_crit\n",
    "        #PartType4 (stars)\n",
    "        dark_units_PT4 = ad['PartType4','SubfindDMDensity']*ds.quan(1e10,\"(Msun/h)/((code_length)**3)\")/dens_crit\n",
    "        print('Dark units are: {0} /n {1}'.format(dark_units_PT0,dark_units_PT4))\n",
    "\n",
    "        ###############################################################\n",
    "        #create Large-Scale Structure (LSS) masks for each matter type#\n",
    "        ###############################################################\n",
    "\n",
    "        #PartType0 (gas)\n",
    "        voi_mask_PT0 = dark_units_PT0 < 0.1\n",
    "        fil_mask_PT0 = np.logical_and(dark_units_PT0 >= 0.1, dark_units_PT0 < 57)\n",
    "        hal_mask_PT0 = dark_units_PT0 >= 57 \n",
    "        #PartType4 (stars)\n",
    "        voi_mask_PT4 = dark_units_PT4 < 0.1\n",
    "        fil_mask_PT4 = np.logical_and(dark_units_PT4 >= 0.1, dark_units_PT4 < 57)\n",
    "        hal_mask_PT4 = dark_units_PT4 >= 57\n",
    "\n",
    "        ##########################################################\n",
    "        #calculate mass in each LSS for each baryonic matter type#\n",
    "        ##########################################################\n",
    "\n",
    "        #PartType0 (gas)\n",
    "        tot_PT0 = np.sum(ad['PartType0','Masses'])\n",
    "        hal_PT0 = np.sum(ad['PartType0','Masses'][hal_mask_PT0])\n",
    "        fil_PT0 = np.sum(ad['PartType0','Masses'][fil_mask_PT0])\n",
    "        voi_PT0 = np.sum(ad['PartType0','Masses'][voi_mask_PT0])\n",
    "        #PartType4 (stars)\n",
    "        tot_PT4 = np.sum(ad['PartType4','Masses'])\n",
    "        hal_PT4 = np.sum(ad['PartType4','Masses'][hal_mask_PT4])\n",
    "        fil_PT4 = np.sum(ad['PartType4','Masses'][fil_mask_PT4])\n",
    "        voi_PT4 = np.sum(ad['PartType4','Masses'][voi_mask_PT4])\n",
    "\n",
    "        ##########################\n",
    "        #append results to arrays#\n",
    "        ##########################\n",
    "\n",
    "        #PartType0 (gas)\n",
    "        tot_PT0_arr.append(tot_PT0)\n",
    "        hal_PT0_arr.append(hal_PT0)\n",
    "        fil_PT0_arr.append(fil_PT0) \n",
    "        voi_PT0_arr.append(voi_PT0) \n",
    "        #PartType4 (gas)\n",
    "        tot_PT4_arr.append(tot_PT4)\n",
    "        hal_PT4_arr.append(hal_PT4)\n",
    "        fil_PT4_arr.append(fil_PT4) \n",
    "        voi_PT4_arr.append(voi_PT4)\n",
    "        \n",
    "    ######################################################    \n",
    "    #append all results for a snapshot to the final array#\n",
    "    ######################################################\n",
    "    \n",
    "    #PartType0 (gas)\n",
    "    allsnaps_tot_PT0_arr.append(tot_PT0_arr)\n",
    "    allsnaps_hal_PT0_arr.append(hal_PT0_arr)\n",
    "    allsnaps_fil_PT0_arr.append(fil_PT0_arr) \n",
    "    allsnaps_voi_PT0_arr.append(voi_PT0_arr) \n",
    "    #PartType4 (gas)\n",
    "    allsnaps_tot_PT4_arr.append(tot_PT4_arr)\n",
    "    allsnaps_hal_PT4_arr.append(hal_PT4_arr)\n",
    "    allsnaps_fil_PT4_arr.append(fil_PT4_arr) \n",
    "    allsnaps_voi_PT4_arr.append(voi_PT4_arr)    \n",
    "    \n",
    "    allsnaps_m_p_array.append(m_p_array)\n",
    "    allsnaps_dens_crit_array.append(dens_crit_array)\n",
    "    allsnaps_redshifts.append(redshifts)\n",
    "\n",
    "    \n",
    "    print('filled baryon arrays')\n",
    "    \n",
    "    \n",
    "    \n",
    "    "
   ]
  },
  {
   "cell_type": "code",
   "execution_count": 4,
   "metadata": {},
   "outputs": [
    {
     "name": "stdout",
     "output_type": "stream",
     "text": [
      "(743811474,)\n",
      "data:  0.008726931177079678 dimensionless\n",
      "given units:  87269311.77079678 Msun/(code_length**3*h)\n",
      "given units, div by 1e10:  0.008726931177079678 Msun/(code_length**3*h)\n",
      "given units, div by dens_crit:  61700186.79511984 dimensionless\n",
      "in code this is:  61700186.79511984 dimensionless\n",
      "9.468720094206941e-27 kg/m**3\n"
     ]
    }
   ],
   "source": [
    "print(dark_units_PT0.shape)\n",
    "print('data: ',ad['PartType0','SubfindDMDensity'][0])\n",
    "print('given units: ',(ad['PartType0','SubfindDMDensity']*ds.quan(1e10,\"(Msun/h)/((code_length)**3)\"))[0])\n",
    "print('given units, div by 1e10: ',(ad['PartType0','SubfindDMDensity']*ds.quan(1e10,\"(Msun/h)/((code_length)**3)\")/1e10)[0])\n",
    "print('given units, div by dens_crit: ',(ad['PartType0','SubfindDMDensity']*ds.quan(1e10,\"(Msun/h)/((code_length)**3)\")/dens_crit)[0])\n",
    "print('in code this is: ',dark_units_PT0[0])\n",
    "print(dens_crit)"
   ]
  },
  {
   "cell_type": "code",
   "execution_count": 5,
   "metadata": {},
   "outputs": [],
   "source": [
    "#########################\n",
    "#convert to numpy arrays#\n",
    "#########################\n",
    "\n",
    "#tot_PT0_arr=np.array(tot_PT0_arr)\n",
    "#hal_PT0_arr=np.array(hal_PT0_arr)\n",
    "#fil_PT0_arr=np.array(fil_PT0_arr)\n",
    "#voi_PT0_arr=np.array(voi_PT0_arr)\n",
    "\n",
    "#tot_PT4_arr=np.array(tot_PT4_arr)\n",
    "#hal_PT4_arr=np.array(hal_PT4_arr)\n",
    "#fil_PT4_arr=np.array(fil_PT4_arr)\n",
    "#voi_PT4_arr=np.array(voi_PT4_arr)\n",
    "\n",
    "allsnaps_tot_PT0_arr = np.array(allsnaps_tot_PT0_arr)\n",
    "allsnaps_hal_PT0_arr = np.array(allsnaps_hal_PT0_arr)\n",
    "allsnaps_fil_PT0_arr = np.array(allsnaps_fil_PT0_arr)\n",
    "allsnaps_voi_PT0_arr = np.array(allsnaps_voi_PT0_arr)\n",
    "\n",
    "allsnaps_tot_PT4_arr = np.array(allsnaps_tot_PT4_arr)\n",
    "allsnaps_hal_PT4_arr = np.array(allsnaps_hal_PT4_arr)\n",
    "allsnaps_fil_PT4_arr = np.array(allsnaps_fil_PT4_arr)\n",
    "allsnaps_voi_PT4_arr = np.array(allsnaps_voi_PT4_arr)\n",
    "\n",
    "allsnaps_redshifts = np.array(allsnaps_redshifts)\n",
    "allsnaps_m_p_array = np.array(allsnaps_m_p_array)\n",
    "allsnaps_dens_crit_array = np.array(allsnaps_dens_crit_array)"
   ]
  },
  {
   "cell_type": "code",
   "execution_count": 6,
   "metadata": {},
   "outputs": [
    {
     "name": "stdout",
     "output_type": "stream",
     "text": [
      "12\n",
      "(12, 1)\n",
      "(12, 1)\n",
      "(12, 1)\n",
      "(12, 1)\n",
      "(12, 1)\n",
      "(12, 1)\n",
      "(12, 1)\n",
      "(12, 1)\n",
      "(12, 1)\n",
      "[[550458.56984219]\n",
      " [551216.33968157]\n",
      " [551646.44255962]\n",
      " [552136.06392441]\n",
      " [552673.38445522]\n",
      " [553777.60707816]\n",
      " [555512.41506687]\n",
      " [558367.18591978]\n",
      " [560953.06121866]\n",
      " [564810.09896122]\n",
      " [566912.63070373]\n",
      " [567934.7064227 ]]\n"
     ]
    }
   ],
   "source": [
    "###############\n",
    "#check lengths#\n",
    "###############\n",
    "\n",
    "print(len(snapshots))\n",
    "print(allsnaps_redshifts.shape)\n",
    "print(allsnaps_m_p_array.shape)\n",
    "print(allsnaps_dens_crit_array.shape)\n",
    "print(allsnaps_hal_PT0_arr.shape)\n",
    "print(allsnaps_fil_PT0_arr.shape)\n",
    "print(allsnaps_voi_PT0_arr.shape)\n",
    "print(allsnaps_hal_PT4_arr.shape)\n",
    "print(allsnaps_fil_PT4_arr.shape)\n",
    "print(allsnaps_voi_PT4_arr.shape)\n",
    "\n",
    "\n",
    "print(allsnaps_tot_PT0_arr) #summing chunks for each snapshot\n",
    "#print(allsnaps_redshifts.mean(axis=1)) #recovering the redshift for each snapshot"
   ]
  },
  {
   "cell_type": "code",
   "execution_count": 7,
   "metadata": {},
   "outputs": [
    {
     "name": "stdout",
     "output_type": "stream",
     "text": [
      "(12,)\n"
     ]
    }
   ],
   "source": [
    "##################################################\n",
    "#for each of the 13 snapshots, sum the masses in #\n",
    "#each of the 7 simulation subchunks to obtain    #\n",
    "#the total mass for the entire redshift          #\n",
    "##################################################\n",
    "\n",
    "tot_PT0_arr_summed = allsnaps_tot_PT0_arr.sum(axis=1)\n",
    "hal_PT0_arr_summed = allsnaps_hal_PT0_arr.sum(axis=1)\n",
    "fil_PT0_arr_summed = allsnaps_fil_PT0_arr.sum(axis=1)\n",
    "voi_PT0_arr_summed = allsnaps_voi_PT0_arr.sum(axis=1)\n",
    "\n",
    "tot_PT4_arr_summed = allsnaps_tot_PT4_arr.sum(axis=1)\n",
    "hal_PT4_arr_summed = allsnaps_hal_PT4_arr.sum(axis=1)\n",
    "fil_PT4_arr_summed = allsnaps_fil_PT4_arr.sum(axis=1)\n",
    "voi_PT4_arr_summed = allsnaps_voi_PT4_arr.sum(axis=1)\n",
    "\n",
    "print(allsnaps_hal_PT0_arr.sum(axis=1).shape)"
   ]
  },
  {
   "cell_type": "code",
   "execution_count": 8,
   "metadata": {},
   "outputs": [
    {
     "name": "stdout",
     "output_type": "stream",
     "text": [
      "(12,)\n"
     ]
    }
   ],
   "source": [
    "####################################################\n",
    "#for each of the 13 snapshots, sum the masses in   #\n",
    "#PT0 and PT4 to obtain the total baryonic mass for #\n",
    "#each redshift                                     #\n",
    "####################################################\n",
    "\n",
    "tot_PT14_arr_summed = tot_PT0_arr_summed + tot_PT4_arr_summed\n",
    "hal_PT14_arr_summed = hal_PT0_arr_summed + hal_PT4_arr_summed\n",
    "fil_PT14_arr_summed = fil_PT0_arr_summed + fil_PT4_arr_summed\n",
    "voi_PT14_arr_summed = voi_PT0_arr_summed + voi_PT4_arr_summed\n",
    "\n",
    "print(hal_PT14_arr_summed.shape)"
   ]
  },
  {
   "cell_type": "code",
   "execution_count": 9,
   "metadata": {},
   "outputs": [
    {
     "name": "stdout",
     "output_type": "stream",
     "text": [
      "(12,)\n"
     ]
    }
   ],
   "source": [
    "#######################\n",
    "#create mass fractions#\n",
    "#######################\n",
    "\n",
    "#hal_frac = (hal_PT0_arr + hal_PT4_arr)/(hal_PT0_arr + hal_PT4_arr + fil_PT0_arr + fil_PT4_arr + voi_PT0_arr + voi_PT4_arr)\n",
    "#fil_frac = (fil_PT0_arr + fil_PT4_arr)/(hal_PT0_arr + hal_PT4_arr + fil_PT0_arr + fil_PT4_arr + voi_PT0_arr + voi_PT4_arr)\n",
    "#voi_frac = (voi_PT0_arr + voi_PT4_arr)/(hal_PT0_arr + hal_PT4_arr + fil_PT0_arr + fil_PT4_arr + voi_PT0_arr + voi_PT4_arr)\n",
    "\n",
    "\n",
    "#hal_frac = (hal_PT14_arr_summed)/(hal_PT14_arr_summed + fil_PT14_arr_summed + voi_PT14_arr_summed)\n",
    "#fil_frac = (fil_PT14_arr_summed)/(hal_PT14_arr_summed + fil_PT14_arr_summed + voi_PT14_arr_summed)\n",
    "#voi_frac = (voi_PT14_arr_summed)/(hal_PT14_arr_summed + fil_PT14_arr_summed + voi_PT14_arr_summed)\n",
    "\n",
    "hal_frac = (hal_PT14_arr_summed)/(tot_PT14_arr_summed)\n",
    "fil_frac = (fil_PT14_arr_summed)/(tot_PT14_arr_summed)\n",
    "voi_frac = (voi_PT14_arr_summed)/(tot_PT14_arr_summed)\n",
    "\n",
    "print(hal_frac.shape)"
   ]
  },
  {
   "cell_type": "code",
   "execution_count": 10,
   "metadata": {},
   "outputs": [
    {
     "data": {
      "image/png": "[encoded data removed]",
      "text/plain": [
       "<Figure size 864x648 with 1 Axes>"
      ]
     },
     "metadata": {
      "needs_background": "light"
     },
     "output_type": "display_data"
    }
   ],
   "source": [
    "#####################\n",
    "#plot mass fractions#\n",
    "#####################\n",
    "\n",
    "fig=plt.figure(figsize=(12,9))\n",
    "\n",
    "ax1=fig.add_subplot(111)\n",
    "ax1.set_xlabel('z',fontsize=15)\n",
    "ax1.set_ylabel('mf',fontsize=15)\n",
    "ax1.set_yscale('log')\n",
    "#ax1.set_ylim([1e-2,1e0])\n",
    "ax1.plot((allsnaps_redshifts.mean(axis=1))[0:10],hal_frac[0:10],label='halo',color='red')\n",
    "ax1.plot((allsnaps_redshifts.mean(axis=1))[0:10],fil_frac[0:10],label='filament',color='blue')\n",
    "ax1.plot((allsnaps_redshifts.mean(axis=1))[0:10],voi_frac[0:10],label='void',color='green')\n",
    "\n",
    "\n",
    "plt.legend(fontsize=15)\n",
    "plt.savefig('evolving_mass_fraction_TNG100-{0}.png'.format(TNGversion))\n",
    "plt.show()"
   ]
  },
  {
   "cell_type": "code",
   "execution_count": 11,
   "metadata": {},
   "outputs": [
    {
     "name": "stdout",
     "output_type": "stream",
     "text": [
      "[[9.46872009e-27]\n",
      " [9.46872009e-27]\n",
      " [9.46872009e-27]\n",
      " [9.46872009e-27]\n",
      " [9.46872009e-27]\n",
      " [9.46872009e-27]\n",
      " [9.46872009e-27]\n",
      " [9.46872009e-27]\n",
      " [9.46872009e-27]\n",
      " [9.46872009e-27]\n",
      " [9.46872009e-27]\n",
      " [9.46872009e-27]]\n"
     ]
    }
   ],
   "source": [
    "print(allsnaps_dens_crit_array)"
   ]
  },
  {
   "cell_type": "code",
   "execution_count": 12,
   "metadata": {},
   "outputs": [
    {
     "name": "stdout",
     "output_type": "stream",
     "text": [
      "[2.22044605e-16 1.97284182e-01 2.97717685e-01 3.99926965e-01\n",
      " 5.03047523e-01 7.00106354e-01 9.97294226e-01 1.49551217e+00\n",
      " 2.00202814e+00 3.00813107e+00] [0.66081941 0.69148391 0.70181405 0.71126391 0.72077177 0.73093712\n",
      " 0.72266019 0.68967895 0.65678664 0.60047699] [0.19820826 0.21189377 0.22028742 0.22929258 0.23734959 0.25359276\n",
      " 0.27643662 0.31032085 0.34321336 0.39952301] [1.40972335e-01 9.66223221e-02 7.78985321e-02 5.94435060e-02\n",
      " 4.18786442e-02 1.54701197e-02 9.03189739e-04 1.95668166e-07\n",
      " 0.00000000e+00 0.00000000e+00]\n",
      "[1. 1. 1. 1. 1. 1. 1. 1. 1. 1. 1. 1.]\n"
     ]
    }
   ],
   "source": [
    "print((allsnaps_redshifts.mean(axis=1))[0:10],fil_frac[0:10],hal_frac[0:10],voi_frac[0:10])\n",
    "\n",
    "print(fil_frac+hal_frac+voi_frac)\n"
   ]
  },
  {
   "cell_type": "code",
   "execution_count": null,
   "metadata": {},
   "outputs": [],
   "source": []
  }
 ],
 "metadata": {
  "kernelspec": {
   "display_name": "Python 3",
   "language": "python",
   "name": "python3"
  },
  "language_info": {
   "codemirror_mode": {
    "name": "ipython",
    "version": 3
   },
   "file_extension": ".py",
   "mimetype": "text/x-python",
   "name": "python",
   "nbconvert_exporter": "python",
   "pygments_lexer": "ipython3",
   "version": "3.7.6"
  }
 },
 "nbformat": 4,
 "nbformat_minor": 4
}
